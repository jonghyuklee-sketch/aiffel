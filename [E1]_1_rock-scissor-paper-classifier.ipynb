{
 "cells": [
  {
   "cell_type": "markdown",
   "metadata": {},
   "source": [
    "# 1-7. 프로젝트: 가위바위보 분류기 만들기\n",
    "직접 촬영한 사진을 바탕으로 가위바위보 분류기를 만드는 프로젝트를 진행하였습니다.\n"
   ]
  },
  {
   "cell_type": "markdown",
   "metadata": {},
   "source": [
    "## 데이터 준비하기"
   ]
  },
  {
   "cell_type": "markdown",
   "metadata": {},
   "source": [
    "### 데이터 만들기\n",
    "노트북의 전면 카메라를 사용하여 가위, 바위, 보 이미지를 각 100장씩 만들었습니다. 일일이 찍는 것은 어려움이 있어 구글의 teachable machine(https://teachablemachine.withgoogle.com)이라는 사이트를 활용하여 보다 이미지 데이터를 손쉽게 만들었습니다. 사이트에서 image project를 선택하면 웹캠이 구동되고 클래스별 데이터를 직접 촬영할 수 있는 화면이 나타납니다.\n"
   ]
  },
  {
   "cell_type": "markdown",
   "metadata": {},
   "source": [
    "### 디렉토리 만들기\n",
    "프로젝트용 디렉토리인 rock_scissor_paper 및 각각의 하위디렉토리를 만들었습니다.\n",
    "\n",
    "가위 : mkdir -p ~/aiffel/rock_scissor_paper/scissor\n",
    "\n",
    "바위 : mkdir -p ~/aiffel/rock_scissor_paper/rock\n",
    "\n",
    "보 : mkdir -p ~/aiffel/rock_scissor_paper/paper\n",
    "\n",
    "디렉토리 확인 : ls -l ~/aiffel/rock_scissor_paper"
   ]
  },
  {
   "cell_type": "markdown",
   "metadata": {},
   "source": [
    "### 데이터 불러오기, Resize 하기\n",
    "techable machine 사이트를 이용하여 만든 이미지 데이터의 크기는 28x28입니다. 사이즈를 바꾸어주기 위해서 pillow 라이브러리를 설치하고 필요한 라이브러리를 불러옵니다."
   ]
  },
  {
   "cell_type": "code",
   "execution_count": 51,
   "metadata": {},
   "outputs": [
    {
     "name": "stdout",
     "output_type": "stream",
     "text": [
      "Requirement already satisfied: pillow in ./anaconda3/lib/python3.7/site-packages (7.0.0)\n",
      "PIL 라이브러리 import 완료!\n"
     ]
    }
   ],
   "source": [
    "# PIL 라이브러리가 설치되어 있지 않다면 설치\n",
    "!pip install pillow   \n",
    "\n",
    "from PIL import Image\n",
    "import os, glob\n",
    "import tensorflow as tf\n",
    "from tensorflow import keras\n",
    "import numpy as np\n",
    "print(\"PIL 라이브러리 import 완료!\")"
   ]
  },
  {
   "cell_type": "markdown",
   "metadata": {},
   "source": [
    "#### 가위, 바위, 보 이미지를 불러와서 28x28 사이즈로 변경하겠습니다."
   ]
  },
  {
   "cell_type": "code",
   "execution_count": 52,
   "metadata": {},
   "outputs": [
    {
     "name": "stdout",
     "output_type": "stream",
     "text": [
      "이미지 디렉토리 경로:  /home/aiffel/aiffel/rock_scissor_paper/scissor\n",
      "가위 이미지 resize 완료!\n"
     ]
    }
   ],
   "source": [
    "import os\n",
    "# 가위 이미지가 저장된 디렉토리 아래의 모든 jpg 파일을 읽어들여서\n",
    "image_dir_path = os.getenv(\"HOME\") + \"/aiffel/rock_scissor_paper/scissor\"\n",
    "print(\"이미지 디렉토리 경로: \", image_dir_path)\n",
    "\n",
    "images=glob.glob(image_dir_path + \"/*.jpg\")  \n",
    "\n",
    "# 파일마다 모두 28x28 사이즈로 바꾸어 저장합니다.\n",
    "target_size=(28,28)\n",
    "for img in images:\n",
    "    old_img=Image.open(img)\n",
    "    new_img=old_img.resize(target_size,Image.ANTIALIAS)\n",
    "    new_img.save(img,\"JPEG\")\n",
    "\n",
    "print(\"가위 이미지 resize 완료!\")"
   ]
  },
  {
   "cell_type": "code",
   "execution_count": 53,
   "metadata": {},
   "outputs": [
    {
     "name": "stdout",
     "output_type": "stream",
     "text": [
      "이미지 디렉토리 경로:  /home/aiffel/aiffel/rock_scissor_paper/rock\n",
      "바위 이미지 resize 완료!\n"
     ]
    }
   ],
   "source": [
    "import os\n",
    "# 바위 이미지가 저장된 디렉토리 아래의 모든 jpg 파일을 읽어들여서\n",
    "image_dir_path = os.getenv(\"HOME\") + \"/aiffel/rock_scissor_paper/rock\"\n",
    "print(\"이미지 디렉토리 경로: \", image_dir_path)\n",
    "\n",
    "images=glob.glob(image_dir_path + \"/*.jpg\")  \n",
    "\n",
    "# 파일마다 모두 28x28 사이즈로 바꾸어 저장합니다.\n",
    "target_size=(28,28)\n",
    "for img in images:\n",
    "    old_img=Image.open(img)\n",
    "    new_img=old_img.resize(target_size,Image.ANTIALIAS)\n",
    "    new_img.save(img,\"JPEG\")\n",
    "\n",
    "print(\"바위 이미지 resize 완료!\")"
   ]
  },
  {
   "cell_type": "code",
   "execution_count": 54,
   "metadata": {},
   "outputs": [
    {
     "name": "stdout",
     "output_type": "stream",
     "text": [
      "이미지 디렉토리 경로:  /home/aiffel/aiffel/rock_scissor_paper/paper\n",
      "보 이미지 resize 완료!\n"
     ]
    }
   ],
   "source": [
    "import os\n",
    "# 보 이미지가 저장된 디렉토리 아래의 모든 jpg 파일을 읽어들여서\n",
    "image_dir_path = os.getenv(\"HOME\") + \"/aiffel/rock_scissor_paper/paper\"\n",
    "print(\"이미지 디렉토리 경로: \", image_dir_path)\n",
    "\n",
    "images=glob.glob(image_dir_path + \"/*.jpg\")  \n",
    "\n",
    "# 파일마다 모두 28x28 사이즈로 바꾸어 저장합니다.\n",
    "target_size=(28,28)\n",
    "for img in images:\n",
    "    old_img=Image.open(img)\n",
    "    new_img=old_img.resize(target_size,Image.ANTIALIAS)\n",
    "    new_img.save(img,\"JPEG\")\n",
    "\n",
    "print(\"보 이미지 resize 완료!\")"
   ]
  },
  {
   "cell_type": "markdown",
   "metadata": {},
   "source": [
    "#### 이어서 가위, 바위, 보에 각각 라벨링을 하겠습니다."
   ]
  },
  {
   "cell_type": "code",
   "execution_count": 55,
   "metadata": {},
   "outputs": [
    {
     "name": "stdout",
     "output_type": "stream",
     "text": [
      "학습데이터(x_train)의 이미지 개수는 9300 입니다.\n",
      "x_train shape: (9600, 28, 28, 3)\n",
      "y_train shape: (9600,)\n"
     ]
    }
   ],
   "source": [
    "def load_data(img_path):\n",
    "    # 가위 : 0, 바위 : 1, 보 : 2\n",
    "    number_of_data=9600   # 가위바위보 이미지 개수 총합에 주의하세요.\n",
    "    img_size=28\n",
    "    color=3\n",
    "    #이미지 데이터와 라벨(가위 : 0, 바위 : 1, 보 : 2) 데이터를 담을 행렬(matrix) 영역을 생성합니다.\n",
    "    imgs=np.zeros(number_of_data*img_size*img_size*color,dtype=np.int32).reshape(number_of_data,img_size,img_size,color)\n",
    "    labels=np.zeros(number_of_data,dtype=np.int32)\n",
    "\n",
    "    idx=0\n",
    "    for file in glob.iglob(img_path+'/scissor/*.jpg'):\n",
    "        img = np.array(Image.open(file),dtype=np.int32)\n",
    "        imgs[idx,:,:,:]=img    # 데이터 영역에 이미지 행렬을 복사\n",
    "        labels[idx]=0   # 가위 : 0\n",
    "        idx=idx+1\n",
    "\n",
    "    for file in glob.iglob(img_path+'/rock/*.jpg'):\n",
    "        img = np.array(Image.open(file),dtype=np.int32)\n",
    "        imgs[idx,:,:,:]=img    # 데이터 영역에 이미지 행렬을 복사\n",
    "        labels[idx]=1   # 바위 : 1\n",
    "        idx=idx+1       \n",
    "    \n",
    "    for file in glob.iglob(img_path+'/paper/*.jpg'):\n",
    "        img = np.array(Image.open(file),dtype=np.int32)\n",
    "        imgs[idx,:,:,:]=img    # 데이터 영역에 이미지 행렬을 복사\n",
    "        labels[idx]=2   # 보 : 2\n",
    "        idx=idx+1\n",
    "        \n",
    "    print(\"학습데이터(x_train)의 이미지 개수는\",idx,\"입니다.\")\n",
    "    return imgs, labels\n",
    "\n",
    "image_dir_path = os.getenv(\"HOME\") + \"/aiffel/rock_scissor_paper\"\n",
    "(x_train, y_train)=load_data(image_dir_path)\n",
    "x_train_norm = x_train/255.0   # 입력은 0~1 사이의 값으로 정규화\n",
    "\n",
    "print(\"x_train shape: {}\".format(x_train.shape))\n",
    "print(\"y_train shape: {}\".format(y_train.shape))"
   ]
  },
  {
   "cell_type": "markdown",
   "metadata": {},
   "source": [
    "#### 학습용 이미지와 라벨을 확인해보겠습니다."
   ]
  },
  {
   "cell_type": "code",
   "execution_count": 56,
   "metadata": {},
   "outputs": [
    {
     "name": "stdout",
     "output_type": "stream",
     "text": [
      "라벨:  0\n"
     ]
    },
    {
     "data": {
      "image/png": "[encoded data removed]",
      "text/plain": [
       "<Figure size 432x288 with 1 Axes>"
      ]
     },
     "metadata": {
      "needs_background": "light"
     },
     "output_type": "display_data"
    }
   ],
   "source": [
    "import matplotlib.pyplot as plt\n",
    "plt.imshow(x_train[0])\n",
    "print('라벨: ', y_train[0])"
   ]
  },
  {
   "cell_type": "markdown",
   "metadata": {},
   "source": [
    "### 딥러닝 네트워크 설계 및 학습시키기\n",
    "먼저 input_shape를 컬러 값이 들어가도록 28,28,3으로 수정을 합니다. 또한 우리는 3개의 클래스가 필요하니 Dense 레이어를 3으로 변경합니다. 후에 설계된 네트워크로 epoch를 10으로 설정 후 학습시킵니다."
   ]
  },
  {
   "cell_type": "code",
   "execution_count": 73,
   "metadata": {},
   "outputs": [
    {
     "name": "stdout",
     "output_type": "stream",
     "text": [
      "Model: \"sequential_17\"\n",
      "_________________________________________________________________\n",
      "Layer (type)                 Output Shape              Param #   \n",
      "=================================================================\n",
      "conv2d_34 (Conv2D)           (None, 26, 26, 16)        448       \n",
      "_________________________________________________________________\n",
      "max_pooling2d_34 (MaxPooling (None, 13, 13, 16)        0         \n",
      "_________________________________________________________________\n",
      "conv2d_35 (Conv2D)           (None, 11, 11, 32)        4640      \n",
      "_________________________________________________________________\n",
      "max_pooling2d_35 (MaxPooling (None, 5, 5, 32)          0         \n",
      "_________________________________________________________________\n",
      "flatten_17 (Flatten)         (None, 800)               0         \n",
      "_________________________________________________________________\n",
      "dense_34 (Dense)             (None, 64)                51264     \n",
      "_________________________________________________________________\n",
      "dense_35 (Dense)             (None, 3)                 195       \n",
      "=================================================================\n",
      "Total params: 56,547\n",
      "Trainable params: 56,547\n",
      "Non-trainable params: 0\n",
      "_________________________________________________________________\n",
      "Epoch 1/70\n",
      "300/300 [==============================] - 0s 1ms/step - loss: 2.0952 - accuracy: 0.5289\n",
      "Epoch 2/70\n",
      "300/300 [==============================] - 0s 1ms/step - loss: 0.5326 - accuracy: 0.7830\n",
      "Epoch 3/70\n",
      "300/300 [==============================] - 0s 1ms/step - loss: 0.3201 - accuracy: 0.8776\n",
      "Epoch 4/70\n",
      "300/300 [==============================] - 0s 1ms/step - loss: 0.2260 - accuracy: 0.9117\n",
      "Epoch 5/70\n",
      "300/300 [==============================] - 0s 1ms/step - loss: 0.1556 - accuracy: 0.9411\n",
      "Epoch 6/70\n",
      "300/300 [==============================] - 0s 1ms/step - loss: 0.1212 - accuracy: 0.9569\n",
      "Epoch 7/70\n",
      "300/300 [==============================] - 0s 1ms/step - loss: 0.0905 - accuracy: 0.9672\n",
      "Epoch 8/70\n",
      "300/300 [==============================] - 0s 1ms/step - loss: 0.1031 - accuracy: 0.9660\n",
      "Epoch 9/70\n",
      "300/300 [==============================] - 0s 1ms/step - loss: 0.0834 - accuracy: 0.9723\n",
      "Epoch 10/70\n",
      "300/300 [==============================] - 0s 1ms/step - loss: 0.0447 - accuracy: 0.9845\n",
      "Epoch 11/70\n",
      "300/300 [==============================] - 0s 1ms/step - loss: 0.0805 - accuracy: 0.9732\n",
      "Epoch 12/70\n",
      "300/300 [==============================] - 0s 1ms/step - loss: 0.0541 - accuracy: 0.9811\n",
      "Epoch 13/70\n",
      "300/300 [==============================] - 0s 1ms/step - loss: 0.0417 - accuracy: 0.9864\n",
      "Epoch 14/70\n",
      "300/300 [==============================] - 0s 1ms/step - loss: 0.0209 - accuracy: 0.9933\n",
      "Epoch 15/70\n",
      "300/300 [==============================] - 0s 1ms/step - loss: 0.0714 - accuracy: 0.9784\n",
      "Epoch 16/70\n",
      "300/300 [==============================] - 0s 1ms/step - loss: 0.0842 - accuracy: 0.9717\n",
      "Epoch 17/70\n",
      "300/300 [==============================] - 0s 1ms/step - loss: 0.0338 - accuracy: 0.9901\n",
      "Epoch 18/70\n",
      "300/300 [==============================] - 0s 1ms/step - loss: 0.0188 - accuracy: 0.9940\n",
      "Epoch 19/70\n",
      "300/300 [==============================] - 0s 1ms/step - loss: 0.0240 - accuracy: 0.9908\n",
      "Epoch 20/70\n",
      "300/300 [==============================] - 0s 1ms/step - loss: 0.0326 - accuracy: 0.9902\n",
      "Epoch 21/70\n",
      "300/300 [==============================] - 0s 1ms/step - loss: 0.0365 - accuracy: 0.9869\n",
      "Epoch 22/70\n",
      "300/300 [==============================] - 0s 1ms/step - loss: 0.0269 - accuracy: 0.9919\n",
      "Epoch 23/70\n",
      "300/300 [==============================] - 0s 1ms/step - loss: 0.0317 - accuracy: 0.9909\n",
      "Epoch 24/70\n",
      "300/300 [==============================] - 0s 1ms/step - loss: 0.0292 - accuracy: 0.9908\n",
      "Epoch 25/70\n",
      "300/300 [==============================] - 0s 1ms/step - loss: 0.0151 - accuracy: 0.9964\n",
      "Epoch 26/70\n",
      "300/300 [==============================] - 0s 1ms/step - loss: 0.0275 - accuracy: 0.9934\n",
      "Epoch 27/70\n",
      "300/300 [==============================] - 0s 1ms/step - loss: 0.0702 - accuracy: 0.9820\n",
      "Epoch 28/70\n",
      "300/300 [==============================] - 0s 1ms/step - loss: 0.0136 - accuracy: 0.9956\n",
      "Epoch 29/70\n",
      "300/300 [==============================] - 0s 1ms/step - loss: 0.0034 - accuracy: 0.9995\n",
      "Epoch 30/70\n",
      "300/300 [==============================] - 0s 1ms/step - loss: 0.0046 - accuracy: 0.9989\n",
      "Epoch 31/70\n",
      "300/300 [==============================] - 0s 1ms/step - loss: 0.0099 - accuracy: 0.9968\n",
      "Epoch 32/70\n",
      "300/300 [==============================] - 0s 1ms/step - loss: 0.1025 - accuracy: 0.9776\n",
      "Epoch 33/70\n",
      "300/300 [==============================] - 0s 1ms/step - loss: 0.0496 - accuracy: 0.9865\n",
      "Epoch 34/70\n",
      "300/300 [==============================] - 0s 1ms/step - loss: 0.0125 - accuracy: 0.9962\n",
      "Epoch 35/70\n",
      "300/300 [==============================] - 0s 1ms/step - loss: 0.0060 - accuracy: 0.9978\n",
      "Epoch 36/70\n",
      "300/300 [==============================] - 0s 1ms/step - loss: 0.0066 - accuracy: 0.9983\n",
      "Epoch 37/70\n",
      "300/300 [==============================] - 0s 1ms/step - loss: 0.0484 - accuracy: 0.9884\n",
      "Epoch 38/70\n",
      "300/300 [==============================] - 0s 1ms/step - loss: 0.0134 - accuracy: 0.9955\n",
      "Epoch 39/70\n",
      "300/300 [==============================] - 0s 1ms/step - loss: 0.0156 - accuracy: 0.9961\n",
      "Epoch 40/70\n",
      "300/300 [==============================] - 0s 1ms/step - loss: 0.0536 - accuracy: 0.9873\n",
      "Epoch 41/70\n",
      "300/300 [==============================] - 0s 1ms/step - loss: 0.0088 - accuracy: 0.9970\n",
      "Epoch 42/70\n",
      "300/300 [==============================] - 0s 1ms/step - loss: 0.0139 - accuracy: 0.9958\n",
      "Epoch 43/70\n",
      "300/300 [==============================] - 0s 1ms/step - loss: 0.0282 - accuracy: 0.9918\n",
      "Epoch 44/70\n",
      "300/300 [==============================] - 0s 1ms/step - loss: 0.0169 - accuracy: 0.9945\n",
      "Epoch 45/70\n",
      "300/300 [==============================] - 0s 1ms/step - loss: 0.0250 - accuracy: 0.9925\n",
      "Epoch 46/70\n",
      "300/300 [==============================] - 0s 1ms/step - loss: 0.0060 - accuracy: 0.9987\n",
      "Epoch 47/70\n",
      "300/300 [==============================] - 0s 1ms/step - loss: 0.0014 - accuracy: 0.9999\n",
      "Epoch 48/70\n",
      "300/300 [==============================] - 0s 1ms/step - loss: 0.0011 - accuracy: 0.9998\n",
      "Epoch 49/70\n",
      "300/300 [==============================] - 0s 1ms/step - loss: 0.0013 - accuracy: 0.9997\n",
      "Epoch 50/70\n",
      "300/300 [==============================] - 0s 1ms/step - loss: 0.0018 - accuracy: 0.9999\n",
      "Epoch 51/70\n",
      "300/300 [==============================] - 0s 1ms/step - loss: 0.0011 - accuracy: 0.9997\n",
      "Epoch 52/70\n",
      "300/300 [==============================] - 0s 1ms/step - loss: 0.0017 - accuracy: 0.9996\n",
      "Epoch 53/70\n",
      "300/300 [==============================] - 0s 1ms/step - loss: 0.1254 - accuracy: 0.9737\n",
      "Epoch 54/70\n",
      "300/300 [==============================] - 0s 1ms/step - loss: 0.0252 - accuracy: 0.9934\n",
      "Epoch 55/70\n",
      "300/300 [==============================] - 0s 1ms/step - loss: 0.0170 - accuracy: 0.9959\n",
      "Epoch 56/70\n",
      "300/300 [==============================] - 0s 1ms/step - loss: 0.0095 - accuracy: 0.9973\n",
      "Epoch 57/70\n",
      "300/300 [==============================] - 0s 1ms/step - loss: 0.0014 - accuracy: 0.9999\n",
      "Epoch 58/70\n",
      "300/300 [==============================] - 0s 1ms/step - loss: 0.0011 - accuracy: 0.9999\n",
      "Epoch 59/70\n",
      "300/300 [==============================] - 0s 1ms/step - loss: 0.0019 - accuracy: 0.9998\n",
      "Epoch 60/70\n",
      "300/300 [==============================] - 0s 1ms/step - loss: 9.2079e-04 - accuracy: 0.9999\n",
      "Epoch 61/70\n",
      "300/300 [==============================] - 0s 1ms/step - loss: 0.0012 - accuracy: 0.9998\n",
      "Epoch 62/70\n",
      "300/300 [==============================] - 0s 1ms/step - loss: 0.0624 - accuracy: 0.9859\n",
      "Epoch 63/70\n",
      "300/300 [==============================] - 0s 1ms/step - loss: 0.0662 - accuracy: 0.9840\n",
      "Epoch 64/70\n",
      "300/300 [==============================] - 0s 1ms/step - loss: 0.0117 - accuracy: 0.9971\n",
      "Epoch 65/70\n",
      "300/300 [==============================] - 0s 1ms/step - loss: 0.0071 - accuracy: 0.9979\n",
      "Epoch 66/70\n",
      "300/300 [==============================] - 0s 1ms/step - loss: 0.0024 - accuracy: 0.9992\n",
      "Epoch 67/70\n",
      "300/300 [==============================] - 0s 1ms/step - loss: 0.0019 - accuracy: 0.9996\n",
      "Epoch 68/70\n",
      "300/300 [==============================] - 0s 1ms/step - loss: 0.0014 - accuracy: 0.9999\n",
      "Epoch 69/70\n"
     ]
    },
    {
     "name": "stdout",
     "output_type": "stream",
     "text": [
      "300/300 [==============================] - 0s 1ms/step - loss: 0.0010 - accuracy: 0.9997\n",
      "Epoch 70/70\n",
      "300/300 [==============================] - 0s 1ms/step - loss: 0.0013 - accuracy: 0.9999\n"
     ]
    },
    {
     "data": {
      "text/plain": [
       "<tensorflow.python.keras.callbacks.History at 0x7f835c0ac950>"
      ]
     },
     "execution_count": 73,
     "metadata": {},
     "output_type": "execute_result"
    }
   ],
   "source": [
    "#바꿔 볼 수 있는 하이퍼파라미터들\n",
    "\n",
    "n_channel_1=16\n",
    "n_channel_2=32\n",
    "n_dense=64\n",
    "n_train_epoch=70\n",
    "\n",
    "model=keras.models.Sequential()\n",
    "model.add(keras.layers.Conv2D(n_channel_1, (3,3), activation='relu', input_shape=(28,28,3)))\n",
    "model.add(keras.layers.MaxPool2D(2,2))\n",
    "model.add(keras.layers.Conv2D(n_channel_2, (3,3), activation='relu'))\n",
    "model.add(keras.layers.MaxPooling2D((2,2)))\n",
    "model.add(keras.layers.Flatten())\n",
    "model.add(keras.layers.Dense(n_dense, activation='relu'))\n",
    "model.add(keras.layers.Dense(3, activation='softmax'))\n",
    "\n",
    "model.summary()\n",
    "model.compile(optimizer='adam',\n",
    "             loss='sparse_categorical_crossentropy',\n",
    "             metrics=['accuracy'])\n",
    "\n",
    "# 모델 훈련\n",
    "model.fit(x_train, y_train, epochs=n_train_epoch)\n"
   ]
  },
  {
   "cell_type": "markdown",
   "metadata": {},
   "source": [
    "### 학습 데이터 또한 같은 로직으로 만들어줍니다."
   ]
  },
  {
   "cell_type": "code",
   "execution_count": 74,
   "metadata": {},
   "outputs": [
    {
     "name": "stdout",
     "output_type": "stream",
     "text": [
      "학습데이터(x_test)의 이미지 개수는 300 입니다.\n",
      "x_test shape: (300, 28, 28, 3)\n",
      "y_test shape: (300,)\n",
      "10/10 - 0s - loss: 3.1647 - accuracy: 0.4600\n",
      "test_loss: 3.164748430252075 \n",
      "test_accuracy: 0.46000000834465027\n"
     ]
    }
   ],
   "source": [
    "def load_test_data(img_path):\n",
    "    # 가위 : 0, 바위 : 1, 보 : 2\n",
    "    number_of_data=300   # 가위바위보 이미지 개수 총합에 주의하세요.\n",
    "    img_size=28\n",
    "    color=3\n",
    "    #이미지 데이터와 라벨(가위 : 0, 바위 : 1, 보 : 2) 데이터를 담을 행렬(matrix) 영역을 생성합니다.\n",
    "    imgs=np.zeros(number_of_data*img_size*img_size*color,dtype=np.int32).reshape(number_of_data,img_size,img_size,color)\n",
    "    labels=np.zeros(number_of_data,dtype=np.int32)\n",
    "\n",
    "    idx=0\n",
    "    for file in glob.iglob(img_path+'/scissor/*.jpg'):\n",
    "        img = np.array(Image.open(file),dtype=np.int32)\n",
    "        imgs[idx,:,:,:]=img    # 데이터 영역에 이미지 행렬을 복사\n",
    "        labels[idx]=0   # 가위 : 0\n",
    "        idx=idx+1\n",
    "\n",
    "    for file in glob.iglob(img_path+'/rock/*.jpg'):\n",
    "        img = np.array(Image.open(file),dtype=np.int32)\n",
    "        imgs[idx,:,:,:]=img    # 데이터 영역에 이미지 행렬을 복사\n",
    "        labels[idx]=1   # 바위 : 1\n",
    "        idx=idx+1       \n",
    "\n",
    "    for file in glob.iglob(img_path+'/paper/*.jpg'):\n",
    "        img = np.array(Image.open(file),dtype=np.int32)\n",
    "        imgs[idx,:,:,:]=img    # 데이터 영역에 이미지 행렬을 복사\n",
    "        labels[idx]=2   # 보 : 2\n",
    "        idx=idx+1\n",
    "\n",
    "    print(\"학습데이터(x_test)의 이미지 개수는\",idx,\"입니다.\")\n",
    "    return imgs, labels\n",
    "\n",
    "test_image_dir_path = os.getenv(\"HOME\") + \"/aiffel/rock_scissor_paper_test\"\n",
    "(x_test, y_test)=load_test_data(test_image_dir_path)\n",
    "x_test_norm = x_test/255.0   # 입력은 0~1 사이의 값으로 정규화\n",
    "\n",
    "print(\"x_test shape: {}\".format(x_test.shape))\n",
    "print(\"y_test shape: {}\".format(y_test.shape))\n",
    "\n",
    "test_loss, test_accuracy = model.evaluate(x_test,y_test, verbose=2)\n",
    "print(\"test_loss: {} \".format(test_loss))\n",
    "print(\"test_accuracy: {}\".format(test_accuracy))"
   ]
  },
  {
   "cell_type": "markdown",
   "metadata": {},
   "source": [
    "n_epoch 값을 10~100까지 시도해봤는데 70 이후 부터는 오히려 정확도가 낮아지는 현상이 발생하였습니다. 따라서 값을 70으로 설정하였습니다.\n",
    "n_dense 또한 64를 초과하는 값은 정확도를 감소시켜서 64가 최적의 값이라 생각했습니다."
   ]
  },
  {
   "cell_type": "markdown",
   "metadata": {},
   "source": [
    "평가 : 정말 솔직하게 코드 하나, 로직 하나 제대로 이해하지를 못했고 배운 것은 많지만 제가 단 하나도 소화를 하지 못한다는 것을 깨달았습니다. 하이퍼파라미터를 바꾼다고는 이해가 선행되지 않아 크게 와닿지가 않았습니다. 특히 아무리 코드를 이해하려고 해도 할 수 없어 많이 답답하였고 위 프로젝트 또한 시간을 두고 계속 반복적으로 봐야한다고 생각합니다. "
   ]
  },
  {
   "cell_type": "code",
   "execution_count": null,
   "metadata": {},
   "outputs": [],
   "source": []
  }
 ],
 "metadata": {
  "kernelspec": {
   "display_name": "aiffel",
   "language": "python",
   "name": "aiffel"
  },
  "language_info": {
   "codemirror_mode": {
    "name": "ipython",
    "version": 3
   },
   "file_extension": ".py",
   "mimetype": "text/x-python",
   "name": "python",
   "nbconvert_exporter": "python",
   "pygments_lexer": "ipython3",
   "version": "3.7.9"
  }
 },
 "nbformat": 4,
 "nbformat_minor": 4
}
