{
 "cells": [
  {
   "cell_type": "markdown",
   "metadata": {},
   "source": [
    "# (1) 데이터 준비와 확인"
   ]
  },
  {
   "cell_type": "code",
   "execution_count": 2,
   "metadata": {},
   "outputs": [
    {
     "data": {
      "text/html": [
       "<div>\n",
       "<style scoped>\n",
       "    .dataframe tbody tr th:only-of-type {\n",
       "        vertical-align: middle;\n",
       "    }\n",
       "\n",
       "    .dataframe tbody tr th {\n",
       "        vertical-align: top;\n",
       "    }\n",
       "\n",
       "    .dataframe thead th {\n",
       "        text-align: right;\n",
       "    }\n",
       "</style>\n",
       "<table border=\"1\" class=\"dataframe\">\n",
       "  <thead>\n",
       "    <tr style=\"text-align: right;\">\n",
       "      <th></th>\n",
       "      <th>id</th>\n",
       "      <th>document</th>\n",
       "      <th>label</th>\n",
       "    </tr>\n",
       "  </thead>\n",
       "  <tbody>\n",
       "    <tr>\n",
       "      <th>0</th>\n",
       "      <td>9976970</td>\n",
       "      <td>아 더빙.. 진짜 짜증나네요 목소리</td>\n",
       "      <td>0</td>\n",
       "    </tr>\n",
       "    <tr>\n",
       "      <th>1</th>\n",
       "      <td>3819312</td>\n",
       "      <td>흠...포스터보고 초딩영화줄....오버연기조차 가볍지 않구나</td>\n",
       "      <td>1</td>\n",
       "    </tr>\n",
       "    <tr>\n",
       "      <th>2</th>\n",
       "      <td>10265843</td>\n",
       "      <td>너무재밓었다그래서보는것을추천한다</td>\n",
       "      <td>0</td>\n",
       "    </tr>\n",
       "    <tr>\n",
       "      <th>3</th>\n",
       "      <td>9045019</td>\n",
       "      <td>교도소 이야기구먼 ..솔직히 재미는 없다..평점 조정</td>\n",
       "      <td>0</td>\n",
       "    </tr>\n",
       "    <tr>\n",
       "      <th>4</th>\n",
       "      <td>6483659</td>\n",
       "      <td>사이몬페그의 익살스런 연기가 돋보였던 영화!스파이더맨에서 늙어보이기만 했던 커스틴 ...</td>\n",
       "      <td>1</td>\n",
       "    </tr>\n",
       "  </tbody>\n",
       "</table>\n",
       "</div>"
      ],
      "text/plain": [
       "         id                                           document  label\n",
       "0   9976970                                아 더빙.. 진짜 짜증나네요 목소리      0\n",
       "1   3819312                  흠...포스터보고 초딩영화줄....오버연기조차 가볍지 않구나      1\n",
       "2  10265843                                  너무재밓었다그래서보는것을추천한다      0\n",
       "3   9045019                      교도소 이야기구먼 ..솔직히 재미는 없다..평점 조정      0\n",
       "4   6483659  사이몬페그의 익살스런 연기가 돋보였던 영화!스파이더맨에서 늙어보이기만 했던 커스틴 ...      1"
      ]
     },
     "execution_count": 2,
     "metadata": {},
     "output_type": "execute_result"
    }
   ],
   "source": [
    "import pandas as pd\n",
    "import urllib.request\n",
    "%matplotlib inline\n",
    "import matplotlib.pyplot as plt\n",
    "import re\n",
    "from konlpy.tag import Okt\n",
    "from tensorflow import keras\n",
    "from tensorflow.keras.preprocessing.text import Tokenizer\n",
    "import numpy as np\n",
    "from tensorflow.keras.preprocessing.sequence import pad_sequences\n",
    "from collections import Counter\n",
    "\n",
    "# 데이터를 읽어봅시다. \n",
    "train_data = pd.read_table('~/aiffel/sentiment_classification/ratings_train.txt')\n",
    "test_data = pd.read_table('~/aiffel/sentiment_classification/ratings_test.txt')\n",
    "\n",
    "train_data.head()"
   ]
  },
  {
   "cell_type": "markdown",
   "metadata": {},
   "source": [
    "# (2) 데이터로더 구성\n",
    "\n",
    "- 데이터의 중복 제거\n",
    "\n",
    "- NaN 결측치 제거\n",
    "\n",
    "- 한국어 토크나이저로 토큰화\n",
    "\n",
    "- 불용어(Stopwords) 제거\n",
    "\n",
    "- 사전word_to_index 구성\n",
    "\n",
    "- 텍스트 스트링을 사전 인덱스 스트링으로 변환\n",
    "\n",
    "- X_train, y_train, X_test, y_test, word_to_index 리턴\n"
   ]
  },
  {
   "cell_type": "markdown",
   "metadata": {},
   "source": [
    "knolpy를 사용할건데 미리 불용어를 정의합니다."
   ]
  },
  {
   "cell_type": "code",
   "execution_count": null,
   "metadata": {},
   "outputs": [],
   "source": [
    "from konlpy.tag import Mecab\n",
    "tokenizer = Mecab()\n",
    "stopwords = ['의','가','이','은','들','는','좀','잘','걍','과','도','를','으로','자','에','와','한','하다']"
   ]
  },
  {
   "cell_type": "markdown",
   "metadata": {},
   "source": [
    "중복되는 데이터나 결측치를 제거해주는 함수를 생성하는데 mecab을 이용하여 한국어 토큰화 작업을 진행합니다. word_to_index를 만들 때에는 미리 정의한 pad, bos, unk, unused를 제외하고 빈도 수가 높은 단어 10,000개의 단어를 가져오는 딕셔너리를 생성합니다."
   ]
  },
  {
   "cell_type": "code",
   "execution_count": 3,
   "metadata": {},
   "outputs": [],
   "source": [
    "def load_data(train_data, test_data, num_words=10000):\n",
    "    train_data.drop_duplicates(subset=['document'], inplace=True)\n",
    "    train_data = train_data.dropna(how = 'any') \n",
    "    test_data.drop_duplicates(subset=['document'], inplace=True)\n",
    "    test_data = test_data.dropna(how = 'any') \n",
    "\n",
    "    X_train = []\n",
    "    for sentence in train_data['document']:\n",
    "        temp_X = tokenizer.morphs(sentence) # 토큰화\n",
    "        temp_X = [word for word in temp_X if not word in stopwords] # 불용어 제거\n",
    "        X_train.append(temp_X)\n",
    "\n",
    "    X_test = []\n",
    "    for sentence in test_data['document']:\n",
    "        temp_X = tokenizer.morphs(sentence) # 토큰화\n",
    "        temp_X = [word for word in temp_X if not word in stopwords] # 불용어 제거\n",
    "        X_test.append(temp_X)\n",
    "\n",
    "    words = np.concatenate(X_train).tolist()\n",
    "    counter = Counter(words)\n",
    "    counter = counter.most_common(10000-4)\n",
    "    vocab = ['<PAD>', '<BOS>', '<UNK>', '<UNUSED>'] + [key for key, _ in counter]\n",
    "    word_to_index = {word:index for index, word in enumerate(vocab)}\n",
    "\n",
    "    def wordlist_to_indexlist(wordlist):\n",
    "        return [word_to_index[word] if word in word_to_index else word_to_index['<UNK>'] for word in wordlist]\n",
    "\n",
    "    X_train = list(map(wordlist_to_indexlist, X_train))\n",
    "    X_test = list(map(wordlist_to_indexlist, X_test))\n",
    "\n",
    "    return X_train, np.array(list(train_data['label'])), X_test, np.array(list(test_data['label'])), word_to_index\n",
    "\n",
    "X_train, y_train, X_test, y_test, word_to_index = load_data(train_data, test_data)"
   ]
  },
  {
   "cell_type": "code",
   "execution_count": 16,
   "metadata": {},
   "outputs": [
    {
     "name": "stdout",
     "output_type": "stream",
     "text": [
      "훈련 샘플 개수: 146182, 테스트 개수: 49157\n"
     ]
    }
   ],
   "source": [
    "print(\"훈련 샘플 개수: {}, 테스트 개수: {}\". format(len(X_train), len(X_test)))"
   ]
  },
  {
   "cell_type": "code",
   "execution_count": 4,
   "metadata": {},
   "outputs": [],
   "source": [
    "index_to_word = {index:word for word, index in word_to_index.items()}"
   ]
  },
  {
   "cell_type": "code",
   "execution_count": 5,
   "metadata": {},
   "outputs": [],
   "source": [
    "# 문장 1개를 활용할 딕셔너리와 함께 주면, 단어 인덱스 리스트 벡터로 변환해 주는 함수입니다. \n",
    "# 단, 모든 문장은 <BOS>로 시작하는 것으로 합니다. \n",
    "def get_encoded_sentence(sentence, word_to_index):\n",
    "    return [word_to_index['<BOS>']]+[word_to_index[word] if word in word_to_index else word_to_index['<UNK>'] for word in sentence.split()]\n",
    "\n",
    "# 여러 개의 문장 리스트를 한꺼번에 단어 인덱스 리스트 벡터로 encode해 주는 함수입니다. \n",
    "def get_encoded_sentences(sentences, word_to_index):\n",
    "    return [get_encoded_sentence(sentence, word_to_index) for sentence in sentences]\n",
    "\n",
    "# 숫자 벡터로 encode된 문장을 원래대로 decode하는 함수입니다. \n",
    "def get_decoded_sentence(encoded_sentence, index_to_word):\n",
    "    return ' '.join(index_to_word[index] if index in index_to_word else '<UNK>' for index in encoded_sentence[1:])  #[1:]를 통해 <BOS>를 제외\n",
    "\n",
    "# 여러개의 숫자 벡터로 encode된 문장을 한꺼번에 원래대로 decode하는 함수입니다. \n",
    "def get_decoded_sentences(encoded_sentences, index_to_word):\n",
    "    return [get_decoded_sentence(encoded_sentence, index_to_word) for encoded_sentence in encoded_sentences]"
   ]
  },
  {
   "cell_type": "markdown",
   "metadata": {},
   "source": [
    "# (3) 모델구성을 위한 데이터 분석 및 가공\n",
    "\n",
    "- 데이터셋 내 문장 길이 분포\n",
    "\n",
    "- 적절한 최대 문장 길이 지정\n",
    "\n",
    "- keras.preprocessing.sequence.pad_sequences 을 활용한 패딩 추가\n"
   ]
  },
  {
   "cell_type": "code",
   "execution_count": 10,
   "metadata": {},
   "outputs": [
    {
     "name": "stdout",
     "output_type": "stream",
     "text": [
      "문장길이 평균 :  15.969355837799927\n",
      "문장길이 최대 :  116\n",
      "문장길이 표준편차 :  12.843536204665021\n",
      "pad_sequences maxlen :  41\n",
      "전체 문장의 0.9342988343341575%가 maxlen 설정값 이내에 포함됩니다. \n"
     ]
    }
   ],
   "source": [
    "total_data_text = list(X_train) + list(X_test)\n",
    "# 텍스트데이터 문장길이의 리스트를 생성한 후\n",
    "num_tokens = [len(tokens) for tokens in total_data_text]\n",
    "num_tokens = np.array(num_tokens)\n",
    "# 문장길이의 평균값, 최대값, 표준편차를 계산해 본다. \n",
    "print('문장길이 평균 : ', np.mean(num_tokens))\n",
    "print('문장길이 최대 : ', np.max(num_tokens))\n",
    "print('문장길이 표준편차 : ', np.std(num_tokens))\n",
    "\n",
    "# 예를들어, 최대 길이를 (평균 + 2*표준편차)로 한다면,  \n",
    "max_tokens = np.mean(num_tokens) + 2 * np.std(num_tokens)\n",
    "maxlen = int(max_tokens)\n",
    "print('pad_sequences maxlen : ', maxlen)\n",
    "print('전체 문장의 {}%가 maxlen 설정값 이내에 포함됩니다. '.format(np.sum(num_tokens < max_tokens) / len(num_tokens)))"
   ]
  },
  {
   "cell_type": "code",
   "execution_count": 17,
   "metadata": {},
   "outputs": [
    {
     "name": "stdout",
     "output_type": "stream",
     "text": [
      "(146182, 41)\n"
     ]
    }
   ],
   "source": [
    "#패딩 추가\n",
    "\n",
    "X_train = keras.preprocessing.sequence.pad_sequences(X_train,\n",
    "                                                        value=word_to_index[\"<PAD>\"],\n",
    "                                                        padding='post', # 혹은 'pre'\n",
    "                                                        maxlen=maxlen)\n",
    "\n",
    "X_test = keras.preprocessing.sequence.pad_sequences(X_test,\n",
    "                                                       value=word_to_index[\"<PAD>\"],\n",
    "                                                       padding='post', # 혹은 'pre'\n",
    "                                                       maxlen=maxlen)\n",
    "\n",
    "print(X_train.shape)"
   ]
  },
  {
   "cell_type": "markdown",
   "metadata": {},
   "source": [
    "# (4) validation set 구성"
   ]
  },
  {
   "cell_type": "markdown",
   "metadata": {},
   "source": [
    "validation set을 먼저 구성하겠습니다."
   ]
  },
  {
   "cell_type": "code",
   "execution_count": 25,
   "metadata": {},
   "outputs": [
    {
     "name": "stdout",
     "output_type": "stream",
     "text": [
      "(136182, 41)\n",
      "(136182,)\n"
     ]
    }
   ],
   "source": [
    "# validation set 10000건 분리\n",
    "X_val = X_train[:10000]   \n",
    "y_val = y_train[:10000]\n",
    "\n",
    "# validation set을 제외한 나머지 15000건\n",
    "partial_X_train = X_train[10000:]  \n",
    "partial_y_train = y_train[10000:]\n",
    "\n",
    "print(partial_X_train.shape)\n",
    "print(partial_y_train.shape)"
   ]
  },
  {
   "cell_type": "markdown",
   "metadata": {},
   "source": [
    "# (5) 모델 구성 및 훈련 개시"
   ]
  },
  {
   "cell_type": "markdown",
   "metadata": {},
   "source": [
    "## 1. LSTM"
   ]
  },
  {
   "cell_type": "markdown",
   "metadata": {},
   "source": [
    "LSTM state 벡터의 차원수는 8에서 128로 조정"
   ]
  },
  {
   "cell_type": "code",
   "execution_count": 35,
   "metadata": {},
   "outputs": [
    {
     "name": "stdout",
     "output_type": "stream",
     "text": [
      "Model: \"sequential_4\"\n",
      "_________________________________________________________________\n",
      "Layer (type)                 Output Shape              Param #   \n",
      "=================================================================\n",
      "embedding_4 (Embedding)      (None, None, 200)         2000000   \n",
      "_________________________________________________________________\n",
      "lstm_2 (LSTM)                (None, 128)               168448    \n",
      "_________________________________________________________________\n",
      "dense_8 (Dense)              (None, 8)                 1032      \n",
      "_________________________________________________________________\n",
      "dense_9 (Dense)              (None, 1)                 9         \n",
      "=================================================================\n",
      "Total params: 2,169,489\n",
      "Trainable params: 2,169,489\n",
      "Non-trainable params: 0\n",
      "_________________________________________________________________\n",
      "Model: \"sequential_4\"\n",
      "_________________________________________________________________\n",
      "Layer (type)                 Output Shape              Param #   \n",
      "=================================================================\n",
      "embedding_4 (Embedding)      (None, None, 200)         2000000   \n",
      "_________________________________________________________________\n",
      "lstm_2 (LSTM)                (None, 128)               168448    \n",
      "_________________________________________________________________\n",
      "dense_8 (Dense)              (None, 8)                 1032      \n",
      "_________________________________________________________________\n",
      "dense_9 (Dense)              (None, 1)                 9         \n",
      "=================================================================\n",
      "Total params: 2,169,489\n",
      "Trainable params: 2,169,489\n",
      "Non-trainable params: 0\n",
      "_________________________________________________________________\n"
     ]
    }
   ],
   "source": [
    "vocab_size = 10000    # 어휘 사전의 크기입니다(10,000개의 단어)\n",
    "word_vector_dim = 200  # 워드 벡터의 차원수 (변경가능한 하이퍼파라미터)\n",
    "\n",
    "model = keras.Sequential()\n",
    "model.add(keras.layers.Embedding(vocab_size, word_vector_dim, input_shape=(None,)))\n",
    "model.add(keras.layers.LSTM(128))   # 가장 널리 쓰이는 RNN인 LSTM 레이어를 사용하였습니다. 이때 LSTM state 벡터의 차원수는 8로 하였습니다. (변경가능)\n",
    "model.add(keras.layers.Dense(8, activation='relu'))\n",
    "model.add(keras.layers.Dense(1, activation='sigmoid'))  # 최종 출력은 긍정/부정을 나타내는 1dim 입니다.\n",
    "model.summary()\n",
    "\n",
    "\n",
    "model.summary()"
   ]
  },
  {
   "cell_type": "markdown",
   "metadata": {},
   "source": [
    "## 모델 훈련"
   ]
  },
  {
   "cell_type": "code",
   "execution_count": 36,
   "metadata": {},
   "outputs": [
    {
     "name": "stdout",
     "output_type": "stream",
     "text": [
      "Train on 136182 samples, validate on 10000 samples\n",
      "Epoch 1/20\n",
      "136182/136182 [==============================] - 9s 63us/sample - loss: 0.4576 - accuracy: 0.7596 - val_loss: 0.3463 - val_accuracy: 0.8499\n",
      "Epoch 2/20\n",
      "136182/136182 [==============================] - 7s 54us/sample - loss: 0.3257 - accuracy: 0.8605 - val_loss: 0.3263 - val_accuracy: 0.8557\n",
      "Epoch 3/20\n",
      "136182/136182 [==============================] - 7s 55us/sample - loss: 0.2877 - accuracy: 0.8767 - val_loss: 0.3201 - val_accuracy: 0.8579\n",
      "Epoch 4/20\n",
      "136182/136182 [==============================] - 7s 54us/sample - loss: 0.2593 - accuracy: 0.8915 - val_loss: 0.3306 - val_accuracy: 0.8573\n",
      "Epoch 5/20\n",
      "136182/136182 [==============================] - 8s 56us/sample - loss: 0.2339 - accuracy: 0.9027 - val_loss: 0.3518 - val_accuracy: 0.8566\n",
      "Epoch 6/20\n",
      "136182/136182 [==============================] - 7s 54us/sample - loss: 0.2117 - accuracy: 0.9136 - val_loss: 0.3598 - val_accuracy: 0.8580\n",
      "Epoch 7/20\n",
      "136182/136182 [==============================] - 7s 55us/sample - loss: 0.1917 - accuracy: 0.9227 - val_loss: 0.4186 - val_accuracy: 0.8518\n",
      "Epoch 8/20\n",
      "136182/136182 [==============================] - 7s 54us/sample - loss: 0.1721 - accuracy: 0.9318 - val_loss: 0.4078 - val_accuracy: 0.8504\n",
      "Epoch 9/20\n",
      "136182/136182 [==============================] - 7s 54us/sample - loss: 0.1561 - accuracy: 0.9392 - val_loss: 0.4575 - val_accuracy: 0.8509\n",
      "Epoch 10/20\n",
      "136182/136182 [==============================] - 7s 55us/sample - loss: 0.1401 - accuracy: 0.9451 - val_loss: 0.4440 - val_accuracy: 0.8494\n",
      "Epoch 11/20\n",
      "136182/136182 [==============================] - 7s 54us/sample - loss: 0.1295 - accuracy: 0.9505 - val_loss: 0.5253 - val_accuracy: 0.8442\n",
      "Epoch 12/20\n",
      "136182/136182 [==============================] - 7s 55us/sample - loss: 0.1180 - accuracy: 0.9550 - val_loss: 0.4942 - val_accuracy: 0.8493\n",
      "Epoch 13/20\n",
      "136182/136182 [==============================] - 7s 54us/sample - loss: 0.1085 - accuracy: 0.9584 - val_loss: 0.6135 - val_accuracy: 0.8467\n",
      "Epoch 14/20\n",
      "136182/136182 [==============================] - 7s 55us/sample - loss: 0.0990 - accuracy: 0.9623 - val_loss: 0.6802 - val_accuracy: 0.8394\n",
      "Epoch 15/20\n",
      "136182/136182 [==============================] - 7s 55us/sample - loss: 0.0931 - accuracy: 0.9641 - val_loss: 0.5681 - val_accuracy: 0.8461\n",
      "Epoch 16/20\n",
      "136182/136182 [==============================] - 7s 54us/sample - loss: 0.0868 - accuracy: 0.9669 - val_loss: 0.6364 - val_accuracy: 0.8413\n",
      "Epoch 17/20\n",
      "136182/136182 [==============================] - 8s 55us/sample - loss: 0.0794 - accuracy: 0.9692 - val_loss: 0.6592 - val_accuracy: 0.8396\n",
      "Epoch 18/20\n",
      "136182/136182 [==============================] - 8s 56us/sample - loss: 0.0757 - accuracy: 0.9711 - val_loss: 0.6437 - val_accuracy: 0.8411\n",
      "Epoch 19/20\n",
      "136182/136182 [==============================] - 7s 55us/sample - loss: 0.0713 - accuracy: 0.9724 - val_loss: 0.7495 - val_accuracy: 0.8417\n",
      "Epoch 20/20\n",
      "136182/136182 [==============================] - 7s 54us/sample - loss: 0.0641 - accuracy: 0.9749 - val_loss: 0.7764 - val_accuracy: 0.8405\n"
     ]
    }
   ],
   "source": [
    "model.compile(optimizer='adam',\n",
    "              loss='binary_crossentropy',\n",
    "              metrics=['accuracy'])\n",
    "              \n",
    "epochs=20  # 몇 epoch를 훈련하면 좋을지 결과를 보면서 바꾸어 봅시다. \n",
    "\n",
    "history = model.fit(partial_X_train,\n",
    "                    partial_y_train,\n",
    "                    epochs=epochs,\n",
    "                    batch_size=512,\n",
    "                    validation_data=(X_val, y_val),\n",
    "                    verbose=1)"
   ]
  },
  {
   "cell_type": "markdown",
   "metadata": {},
   "source": [
    "## (2)maxpooling"
   ]
  },
  {
   "cell_type": "code",
   "execution_count": 31,
   "metadata": {},
   "outputs": [
    {
     "name": "stdout",
     "output_type": "stream",
     "text": [
      "Model: \"sequential_1\"\n",
      "_________________________________________________________________\n",
      "Layer (type)                 Output Shape              Param #   \n",
      "=================================================================\n",
      "embedding_1 (Embedding)      (None, None, 200)         2000000   \n",
      "_________________________________________________________________\n",
      "lstm_1 (LSTM)                (None, 200)               320800    \n",
      "_________________________________________________________________\n",
      "dense_2 (Dense)              (None, 8)                 1608      \n",
      "_________________________________________________________________\n",
      "dense_3 (Dense)              (None, 1)                 9         \n",
      "=================================================================\n",
      "Total params: 2,322,417\n",
      "Trainable params: 2,322,417\n",
      "Non-trainable params: 0\n",
      "_________________________________________________________________\n"
     ]
    }
   ],
   "source": [
    "model3 = keras.Sequential()\n",
    "model3.add(keras.layers.Embedding(vocab_size, word_vector_dim, input_shape=(None,)))\n",
    "model3.add(keras.layers.GlobalMaxPooling1D())\n",
    "model3.add(keras.layers.Dense(8, activation='relu'))\n",
    "model3.add(keras.layers.Dense(1, activation='sigmoid'))  # 최종 출력은 긍정/부정을 나타내는 1dim 입니다.\n",
    "model.summary()"
   ]
  },
  {
   "cell_type": "markdown",
   "metadata": {},
   "source": [
    "## 모델 훈련"
   ]
  },
  {
   "cell_type": "code",
   "execution_count": 32,
   "metadata": {},
   "outputs": [
    {
     "name": "stdout",
     "output_type": "stream",
     "text": [
      "Train on 136182 samples, validate on 10000 samples\n",
      "Epoch 1/20\n",
      "136182/136182 [==============================] - 10s 74us/sample - loss: 0.0625 - accuracy: 0.9759 - val_loss: 0.7916 - val_accuracy: 0.8428\n",
      "Epoch 2/20\n",
      "136182/136182 [==============================] - 9s 64us/sample - loss: 0.0542 - accuracy: 0.9793 - val_loss: 0.7945 - val_accuracy: 0.8401\n",
      "Epoch 3/20\n",
      "136182/136182 [==============================] - 9s 65us/sample - loss: 0.0514 - accuracy: 0.9808 - val_loss: 0.8135 - val_accuracy: 0.8402\n",
      "Epoch 4/20\n",
      "136182/136182 [==============================] - 9s 65us/sample - loss: 0.0481 - accuracy: 0.9817 - val_loss: 0.9101 - val_accuracy: 0.8420\n",
      "Epoch 5/20\n",
      "136182/136182 [==============================] - 9s 65us/sample - loss: 0.0445 - accuracy: 0.9828 - val_loss: 0.8818 - val_accuracy: 0.8438\n",
      "Epoch 6/20\n",
      "136182/136182 [==============================] - 9s 65us/sample - loss: 0.0436 - accuracy: 0.9832 - val_loss: 0.8094 - val_accuracy: 0.8385\n",
      "Epoch 7/20\n",
      "136182/136182 [==============================] - 9s 66us/sample - loss: 0.0420 - accuracy: 0.9842 - val_loss: 0.8430 - val_accuracy: 0.8401\n",
      "Epoch 8/20\n",
      "136182/136182 [==============================] - 9s 65us/sample - loss: 0.0377 - accuracy: 0.9857 - val_loss: 0.9394 - val_accuracy: 0.8417\n",
      "Epoch 9/20\n",
      "136182/136182 [==============================] - 9s 65us/sample - loss: 0.0384 - accuracy: 0.9856 - val_loss: 0.8169 - val_accuracy: 0.8408\n",
      "Epoch 10/20\n",
      "136182/136182 [==============================] - 9s 65us/sample - loss: 0.0354 - accuracy: 0.9869 - val_loss: 0.9736 - val_accuracy: 0.8412\n",
      "Epoch 11/20\n",
      "136182/136182 [==============================] - 9s 65us/sample - loss: 0.0339 - accuracy: 0.9875 - val_loss: 0.8853 - val_accuracy: 0.8359\n",
      "Epoch 12/20\n",
      "136182/136182 [==============================] - 9s 65us/sample - loss: 0.0320 - accuracy: 0.9878 - val_loss: 0.9459 - val_accuracy: 0.8408\n",
      "Epoch 13/20\n",
      "136182/136182 [==============================] - 9s 65us/sample - loss: 0.0322 - accuracy: 0.9876 - val_loss: 0.8783 - val_accuracy: 0.8385\n",
      "Epoch 14/20\n",
      "136182/136182 [==============================] - 9s 66us/sample - loss: 0.0295 - accuracy: 0.9885 - val_loss: 0.9710 - val_accuracy: 0.8373\n",
      "Epoch 15/20\n",
      "136182/136182 [==============================] - 9s 65us/sample - loss: 0.0265 - accuracy: 0.9897 - val_loss: 1.0393 - val_accuracy: 0.8396\n",
      "Epoch 16/20\n",
      "136182/136182 [==============================] - 10s 71us/sample - loss: 0.0267 - accuracy: 0.9899 - val_loss: 0.9197 - val_accuracy: 0.8390\n",
      "Epoch 17/20\n",
      "136182/136182 [==============================] - 9s 65us/sample - loss: 0.0261 - accuracy: 0.9900 - val_loss: 1.0206 - val_accuracy: 0.8396\n",
      "Epoch 18/20\n",
      "136182/136182 [==============================] - 9s 69us/sample - loss: 0.0249 - accuracy: 0.9903 - val_loss: 0.9896 - val_accuracy: 0.8363\n",
      "Epoch 19/20\n",
      "136182/136182 [==============================] - 9s 66us/sample - loss: 0.0242 - accuracy: 0.9906 - val_loss: 1.0296 - val_accuracy: 0.8410\n",
      "Epoch 20/20\n",
      "136182/136182 [==============================] - 9s 66us/sample - loss: 0.0233 - accuracy: 0.9911 - val_loss: 1.0224 - val_accuracy: 0.8369\n"
     ]
    }
   ],
   "source": [
    "model.compile(optimizer='adam',\n",
    "              loss='binary_crossentropy',\n",
    "              metrics=['accuracy'])\n",
    "              \n",
    "epochs=20  # 몇 epoch를 훈련하면 좋을지 결과를 보면서 바꾸어 봅시다. \n",
    "\n",
    "history = model.fit(partial_X_train,\n",
    "                    partial_y_train,\n",
    "                    epochs=epochs,\n",
    "                    batch_size=512,\n",
    "                    validation_data=(X_val, y_val),\n",
    "                    verbose=1)"
   ]
  },
  {
   "cell_type": "markdown",
   "metadata": {},
   "source": [
    "## (3) conv"
   ]
  },
  {
   "cell_type": "code",
   "execution_count": 33,
   "metadata": {},
   "outputs": [],
   "source": [
    "model2 = keras.Sequential()\n",
    "model2.add(keras.layers.Embedding(vocab_size, word_vector_dim, input_shape=(None,)))\n",
    "model2.add(keras.layers.Conv1D(16, 7, activation='relu'))\n",
    "model2.add(keras.layers.MaxPooling1D(5))\n",
    "model2.add(keras.layers.Conv1D(16, 7, activation='relu'))\n",
    "model2.add(keras.layers.GlobalMaxPooling1D())\n",
    "model2.add(keras.layers.Dense(8, activation='relu'))\n",
    "model2.add(keras.layers.Dense(1, activation='sigmoid'))  # 최종 출력은 긍정/부정을 나타내는 1dim 입니다."
   ]
  },
  {
   "cell_type": "markdown",
   "metadata": {},
   "source": [
    "## 모델 훈련"
   ]
  },
  {
   "cell_type": "code",
   "execution_count": 34,
   "metadata": {
    "scrolled": true
   },
   "outputs": [
    {
     "name": "stdout",
     "output_type": "stream",
     "text": [
      "Train on 136182 samples, validate on 10000 samples\n",
      "Epoch 1/20\n",
      "136182/136182 [==============================] - 10s 74us/sample - loss: 0.0230 - accuracy: 0.9910 - val_loss: 1.1214 - val_accuracy: 0.8368\n",
      "Epoch 2/20\n",
      "136182/136182 [==============================] - 9s 65us/sample - loss: 0.0194 - accuracy: 0.9923 - val_loss: 1.1204 - val_accuracy: 0.8364\n",
      "Epoch 3/20\n",
      "136182/136182 [==============================] - 9s 65us/sample - loss: 0.0201 - accuracy: 0.9921 - val_loss: 1.0352 - val_accuracy: 0.8398\n",
      "Epoch 4/20\n",
      "136182/136182 [==============================] - 9s 65us/sample - loss: 0.0201 - accuracy: 0.9921 - val_loss: 1.0279 - val_accuracy: 0.8362\n",
      "Epoch 5/20\n",
      "136182/136182 [==============================] - 9s 65us/sample - loss: 0.0204 - accuracy: 0.9921 - val_loss: 1.0825 - val_accuracy: 0.8430\n",
      "Epoch 6/20\n",
      "136182/136182 [==============================] - 9s 65us/sample - loss: 0.0183 - accuracy: 0.9929 - val_loss: 1.0168 - val_accuracy: 0.8386\n",
      "Epoch 7/20\n",
      "136182/136182 [==============================] - 9s 65us/sample - loss: 0.0167 - accuracy: 0.9933 - val_loss: 1.1077 - val_accuracy: 0.8405\n",
      "Epoch 8/20\n",
      "136182/136182 [==============================] - 9s 65us/sample - loss: 0.0167 - accuracy: 0.9932 - val_loss: 1.0479 - val_accuracy: 0.8331\n",
      "Epoch 9/20\n",
      "136182/136182 [==============================] - 9s 65us/sample - loss: 0.0175 - accuracy: 0.9932 - val_loss: 1.1601 - val_accuracy: 0.8377\n",
      "Epoch 10/20\n",
      "136182/136182 [==============================] - 9s 66us/sample - loss: 0.0154 - accuracy: 0.9937 - val_loss: 1.2787 - val_accuracy: 0.8429\n",
      "Epoch 11/20\n",
      "136182/136182 [==============================] - 9s 65us/sample - loss: 0.0149 - accuracy: 0.9939 - val_loss: 1.2133 - val_accuracy: 0.8410\n",
      "Epoch 12/20\n",
      "136182/136182 [==============================] - 9s 65us/sample - loss: 0.0161 - accuracy: 0.9935 - val_loss: 1.0334 - val_accuracy: 0.8386\n",
      "Epoch 13/20\n",
      "136182/136182 [==============================] - 9s 66us/sample - loss: 0.0148 - accuracy: 0.9942 - val_loss: 1.1860 - val_accuracy: 0.8348\n",
      "Epoch 14/20\n",
      "136182/136182 [==============================] - 9s 65us/sample - loss: 0.0131 - accuracy: 0.9945 - val_loss: 1.2024 - val_accuracy: 0.8333\n",
      "Epoch 15/20\n",
      "136182/136182 [==============================] - 9s 65us/sample - loss: 0.0134 - accuracy: 0.9947 - val_loss: 1.1278 - val_accuracy: 0.8386\n",
      "Epoch 16/20\n",
      "136182/136182 [==============================] - 9s 65us/sample - loss: 0.0127 - accuracy: 0.9947 - val_loss: 1.1321 - val_accuracy: 0.8360\n",
      "Epoch 17/20\n",
      "136182/136182 [==============================] - 9s 65us/sample - loss: 0.0138 - accuracy: 0.9944 - val_loss: 1.2100 - val_accuracy: 0.8391\n",
      "Epoch 18/20\n",
      "136182/136182 [==============================] - 9s 65us/sample - loss: 0.0136 - accuracy: 0.9947 - val_loss: 1.0860 - val_accuracy: 0.8399\n",
      "Epoch 19/20\n",
      "136182/136182 [==============================] - 9s 65us/sample - loss: 0.0124 - accuracy: 0.9948 - val_loss: 1.1949 - val_accuracy: 0.8343\n",
      "Epoch 20/20\n",
      "136182/136182 [==============================] - 9s 66us/sample - loss: 0.0119 - accuracy: 0.9950 - val_loss: 0.9974 - val_accuracy: 0.8363\n"
     ]
    }
   ],
   "source": [
    "model.compile(optimizer='adam',\n",
    "              loss='binary_crossentropy',\n",
    "              metrics=['accuracy'])\n",
    "              \n",
    "epochs=20  # 몇 epoch를 훈련하면 좋을지 결과를 보면서 바꾸어 봅시다. \n",
    "\n",
    "history = model.fit(partial_X_train,\n",
    "                    partial_y_train,\n",
    "                    epochs=epochs,\n",
    "                    batch_size=512,\n",
    "                    validation_data=(X_val, y_val),\n",
    "                    verbose=1)"
   ]
  },
  {
   "cell_type": "markdown",
   "metadata": {},
   "source": [
    "# (6) Loss, Accuracy 그래프 시각화\n",
    "\n",
    "학습이 끝난 모델을 테스트 셋으로 평가"
   ]
  },
  {
   "cell_type": "code",
   "execution_count": 38,
   "metadata": {},
   "outputs": [
    {
     "name": "stdout",
     "output_type": "stream",
     "text": [
      "49157/49157 - 3s - loss: 0.7597 - accuracy: 0.8395\n",
      "[0.7596737972666459, 0.8394939]\n"
     ]
    }
   ],
   "source": [
    "results = model.evaluate(X_test,  y_test, verbose=2)\n",
    "\n",
    "print(results)"
   ]
  },
  {
   "cell_type": "code",
   "execution_count": 39,
   "metadata": {},
   "outputs": [
    {
     "name": "stdout",
     "output_type": "stream",
     "text": [
      "dict_keys(['loss', 'accuracy', 'val_loss', 'val_accuracy'])\n"
     ]
    }
   ],
   "source": [
    "history_dict = history.history\n",
    "print(history_dict.keys()) # epoch에 따른 그래프를 그려볼 수 있는 항목들\n"
   ]
  },
  {
   "cell_type": "code",
   "execution_count": 40,
   "metadata": {},
   "outputs": [
    {
     "data": {
      "image/png": "[encoded data removed]",
      "text/plain": [
       "<Figure size 432x288 with 1 Axes>"
      ]
     },
     "metadata": {
      "needs_background": "light"
     },
     "output_type": "display_data"
    }
   ],
   "source": [
    "import matplotlib.pyplot as plt\n",
    "\n",
    "acc = history_dict['accuracy']\n",
    "val_acc = history_dict['val_accuracy']\n",
    "loss = history_dict['loss']\n",
    "val_loss = history_dict['val_loss']\n",
    "\n",
    "epochs = range(1, len(acc) + 1)\n",
    "\n",
    "# \"bo\"는 \"파란색 점\"입니다\n",
    "plt.plot(epochs, loss, 'bo', label='Training loss')\n",
    "# b는 \"파란 실선\"입니다\n",
    "plt.plot(epochs, val_loss, 'b', label='Validation loss')\n",
    "plt.title('Training and validation loss')\n",
    "plt.xlabel('Epochs')\n",
    "plt.ylabel('Loss')\n",
    "plt.legend()\n",
    "\n",
    "plt.show()"
   ]
  },
  {
   "cell_type": "code",
   "execution_count": 41,
   "metadata": {},
   "outputs": [
    {
     "data": {
      "image/png": "[encoded data removed]",
      "text/plain": [
       "<Figure size 432x288 with 1 Axes>"
      ]
     },
     "metadata": {
      "needs_background": "light"
     },
     "output_type": "display_data"
    }
   ],
   "source": [
    "plt.clf()   # 그림을 초기화합니다\n",
    "\n",
    "plt.plot(epochs, acc, 'bo', label='Training acc')\n",
    "plt.plot(epochs, val_acc, 'b', label='Validation acc')\n",
    "plt.title('Training and validation accuracy')\n",
    "plt.xlabel('Epochs')\n",
    "plt.ylabel('Accuracy')\n",
    "plt.legend()\n",
    "\n",
    "plt.show()"
   ]
  },
  {
   "cell_type": "markdown",
   "metadata": {},
   "source": [
    "# (7) 학습된 Embedding 레이어 분석"
   ]
  },
  {
   "cell_type": "code",
   "execution_count": 42,
   "metadata": {},
   "outputs": [
    {
     "name": "stdout",
     "output_type": "stream",
     "text": [
      "(10000, 200)\n"
     ]
    }
   ],
   "source": [
    "embedding_layer = model.layers[0]\n",
    "weights = embedding_layer.get_weights()[0]\n",
    "print(weights.shape)    # shape: (vocab_size, embedding_dim)"
   ]
  },
  {
   "cell_type": "code",
   "execution_count": 43,
   "metadata": {},
   "outputs": [],
   "source": [
    "import os\n",
    "\n",
    "# 학습한 Embedding 파라미터를 파일에 써서 저장합니다. \n",
    "word2vec_file_path = os.getenv('HOME')+'/aiffel/sentiment_classification/word2vec.txt'\n",
    "f = open(word2vec_file_path, 'w')\n",
    "f.write('{} {}\\n'.format(vocab_size-4, word_vector_dim))  # 몇개의 벡터를 얼마 사이즈로 기재할지 타이틀을 씁니다.\n",
    "\n",
    "# 단어 개수(에서 특수문자 4개는 제외하고)만큼의 워드 벡터를 파일에 기록합니다. \n",
    "vectors = model.get_weights()[0]\n",
    "for i in range(4,vocab_size):\n",
    "    f.write('{} {}\\n'.format(index_to_word[i], ' '.join(map(str, list(vectors[i, :])))))\n",
    "f.close()"
   ]
  },
  {
   "cell_type": "code",
   "execution_count": 49,
   "metadata": {},
   "outputs": [
    {
     "data": {
      "text/plain": [
       "array([ 1.21005163e-01,  4.05087732e-02,  9.40833390e-02,  9.67747569e-02,\n",
       "       -3.68815362e-02,  4.82934667e-03, -1.39623687e-01,  5.25927022e-02,\n",
       "       -1.02086037e-01,  8.83680582e-02, -1.21253900e-01,  1.54756717e-02,\n",
       "       -2.42201254e-01,  1.01795286e-01, -3.17689329e-02,  7.13486224e-02,\n",
       "        3.62348743e-02, -1.28145263e-01,  3.36258523e-02, -1.67794704e-01,\n",
       "        3.83729972e-02,  4.26819623e-02, -1.00424364e-01, -6.55174106e-02,\n",
       "        8.88161436e-02,  1.29682034e-01, -1.24914488e-02,  4.96732742e-02,\n",
       "       -2.14933418e-02, -1.79431736e-01,  7.78247714e-02, -1.05941564e-01,\n",
       "        4.32067811e-02, -1.41335145e-01, -1.33700613e-02,  6.26623258e-02,\n",
       "       -7.75781497e-02,  5.08713238e-02,  3.60164717e-02, -1.08280420e-01,\n",
       "        1.94126461e-02, -1.28092319e-01,  9.98223200e-02,  3.72096077e-02,\n",
       "       -8.77892151e-02, -7.60105103e-02,  6.50536418e-02,  5.24653979e-02,\n",
       "        1.21241763e-01,  1.33398041e-01,  1.21877909e-01,  2.00521965e-02,\n",
       "        1.07108690e-01,  9.09692645e-02,  7.73373768e-02,  1.70027297e-02,\n",
       "        1.20130554e-01, -7.76156262e-02, -4.33503240e-02,  8.90576616e-02,\n",
       "       -1.35858864e-01,  7.55012333e-02, -1.12750836e-01,  1.71996906e-01,\n",
       "        1.64230186e-02, -1.69511978e-02,  1.24021560e-01,  1.28717750e-01,\n",
       "       -7.01504126e-02, -5.56470044e-02,  3.18189524e-02,  1.63526056e-05,\n",
       "        2.07452923e-02,  1.38661712e-01, -1.16683133e-01, -7.32725039e-02,\n",
       "       -5.97947538e-02, -9.76867005e-02, -7.78176412e-02,  3.06372885e-02,\n",
       "       -5.45694605e-02, -4.90767621e-02, -8.05521384e-02,  2.14938819e-02,\n",
       "       -1.48821443e-01, -2.28827614e-02, -1.49121597e-01, -1.16243616e-01,\n",
       "        1.02606714e-01,  8.22804049e-02, -3.40449251e-02,  7.44863153e-02,\n",
       "       -1.00731403e-01, -6.21844046e-02, -1.59358039e-01,  6.82537630e-02,\n",
       "       -6.28562346e-02, -7.43435547e-02, -1.06137656e-01,  8.12799409e-02,\n",
       "        1.74200684e-01, -9.90582332e-02,  8.89102370e-02, -1.13904953e-01,\n",
       "       -1.08009651e-01,  8.34585652e-02, -3.95611450e-02, -6.73069805e-02,\n",
       "       -3.58383209e-02, -5.64032011e-02,  1.82176441e-01,  6.59212023e-02,\n",
       "       -2.71475762e-02,  1.20893111e-02,  1.01300471e-01,  7.81789869e-02,\n",
       "        4.82579209e-02, -1.11082174e-01, -1.12832844e-01, -8.28966796e-02,\n",
       "       -2.37448029e-02, -3.70170586e-02, -2.18287297e-02,  9.17652175e-02,\n",
       "        1.55833036e-01, -1.30178064e-01,  5.18982783e-02,  5.32212146e-02,\n",
       "        3.93329598e-02, -1.07317008e-01, -2.86980420e-02,  3.97243276e-02,\n",
       "        3.23991515e-02, -6.40569106e-02, -4.04350609e-02, -5.11483029e-02,\n",
       "        7.66985044e-02,  9.73286703e-02,  7.20349420e-03,  8.32745805e-02,\n",
       "        5.08846641e-02,  3.15670148e-02,  1.68736249e-01, -1.00479066e-01,\n",
       "        1.56474918e-01,  3.62895243e-02,  9.81455967e-02,  1.28629804e-01,\n",
       "        1.07754715e-01, -9.05027241e-02, -1.81143358e-01,  1.03471190e-01,\n",
       "        1.38461739e-01, -8.84115580e-04, -2.53343396e-02, -1.54416859e-01,\n",
       "       -1.08992070e-01,  1.29718147e-02,  5.59927449e-02, -1.20795146e-01,\n",
       "        1.63019985e-01,  6.54636547e-02, -2.95729470e-03, -1.81595489e-01,\n",
       "       -6.40024692e-02, -5.45895994e-02,  5.46806306e-02,  9.11486819e-02,\n",
       "        4.46492434e-02,  1.46318078e-01, -9.87711698e-02,  5.66639602e-02,\n",
       "       -1.20965257e-01, -2.51108389e-02,  9.57389250e-02, -5.77490181e-02,\n",
       "        8.15537795e-02, -1.03190549e-01,  1.40671313e-01,  1.16520025e-01,\n",
       "       -1.23102851e-01,  8.01155716e-02,  6.48923814e-02,  9.74175404e-04,\n",
       "       -1.69770703e-01,  1.17193740e-02,  2.60835569e-02, -1.52436897e-01,\n",
       "        7.75976032e-02, -6.65159896e-02,  4.24647890e-02, -1.80439070e-01,\n",
       "       -1.10962339e-01,  2.83423532e-02,  7.63189141e-03, -3.25197503e-02,\n",
       "        9.15419087e-02,  6.95742369e-02,  1.03463747e-01, -7.20679015e-02],\n",
       "      dtype=float32)"
      ]
     },
     "execution_count": 49,
     "metadata": {},
     "output_type": "execute_result"
    }
   ],
   "source": [
    "\n",
    "from gensim.models.keyedvectors import Word2VecKeyedVectors\n",
    "\n",
    "word_vectors = Word2VecKeyedVectors.load_word2vec_format(word2vec_file_path, binary=False)\n",
    "vector = word_vectors['사랑']\n",
    "vector"
   ]
  },
  {
   "cell_type": "code",
   "execution_count": 50,
   "metadata": {},
   "outputs": [
    {
     "data": {
      "text/plain": [
       "[('명작', 0.8614985346794128),\n",
       " ('대조', 0.8524621725082397),\n",
       " ('담아낸', 0.8462417125701904),\n",
       " ('직설', 0.8422785997390747),\n",
       " ('최고', 0.8247392177581787),\n",
       " ('여운', 0.8194774985313416),\n",
       " ('나와도', 0.8176375031471252),\n",
       " ('비포', 0.8173232078552246),\n",
       " ('깊', 0.815139889717102),\n",
       " ('재밌', 0.8124272227287292)]"
      ]
     },
     "execution_count": 50,
     "metadata": {},
     "output_type": "execute_result"
    }
   ],
   "source": [
    "word_vectors.similar_by_word(\"사랑\")"
   ]
  },
  {
   "cell_type": "markdown",
   "metadata": {},
   "source": [
    "# (8) 한국어 Word2Vec 임베딩 활용하여 성능개선"
   ]
  },
  {
   "cell_type": "code",
   "execution_count": 54,
   "metadata": {
    "scrolled": true
   },
   "outputs": [
    {
     "name": "stderr",
     "output_type": "stream",
     "text": [
      "/home/aiffel-dj31/anaconda3/envs/aiffel/lib/python3.7/site-packages/ipykernel_launcher.py:4: DeprecationWarning: Call to deprecated `__getitem__` (Method will be removed in 4.0.0, use self.wv.__getitem__() instead).\n",
      "  after removing the cwd from sys.path.\n"
     ]
    },
    {
     "data": {
      "text/plain": [
       "array([-1.3740246 , -1.7353463 ,  3.3915305 , -2.569253  , -1.4016607 ,\n",
       "        1.4556127 ,  0.9414557 ,  1.9207907 ,  0.16471806,  0.4838317 ,\n",
       "       -0.8547181 ,  2.0879807 ,  0.86741775,  0.87539405, -0.09962013,\n",
       "        0.22928311, -1.1858722 ,  0.00858838,  1.4999928 , -0.16196461,\n",
       "       -0.35184434, -0.92390764,  1.0849575 ,  0.3025011 ,  2.7021565 ,\n",
       "       -1.0263684 ,  0.32864776, -0.76589465, -2.510981  , -0.66225356,\n",
       "        2.8434615 ,  0.50130975, -1.021874  , -1.4366034 ,  1.1110784 ,\n",
       "        0.5812605 , -0.5830406 , -0.5785423 ,  1.3634988 ,  2.3074338 ,\n",
       "       -1.4314893 ,  0.45745876,  1.1073523 , -3.2135262 , -0.2898375 ,\n",
       "       -1.1622221 ,  1.2369208 , -0.7622987 , -0.37757635,  1.1376442 ,\n",
       "        0.01065568, -0.69105595,  1.5159112 ,  1.1534518 , -1.0119992 ,\n",
       "       -0.5757404 ,  1.1349088 , -1.1289831 ,  0.13004152,  2.0451715 ,\n",
       "       -0.23940353,  1.3604902 ,  0.72700524,  0.32545742,  1.0612459 ,\n",
       "        0.42252553,  1.1442151 ,  2.8774905 ,  2.4377263 , -1.340305  ,\n",
       "        0.12629706, -0.07772489, -0.59053177, -0.19007324,  0.1396541 ,\n",
       "       -1.8655105 ,  0.9401054 ,  0.5150856 ,  0.7795373 , -0.86505556,\n",
       "        0.11842118, -1.8303713 ,  1.337177  , -1.0102932 , -0.37180334,\n",
       "        0.00893255, -0.49141577, -1.05802   , -2.5987291 ,  0.9731856 ,\n",
       "        0.34080654, -2.5973568 ,  1.0046519 , -1.3914212 , -0.6504351 ,\n",
       "       -0.9010805 , -1.1341541 ,  0.75565654,  1.2941337 ,  0.0880572 ,\n",
       "       -1.0341461 , -0.1750075 , -0.01880708, -1.0835075 , -2.0333962 ,\n",
       "        1.1372623 ,  1.0626172 , -1.8369784 , -2.2662086 , -3.382057  ,\n",
       "        1.6751666 , -0.2988223 , -0.25563756, -1.5594274 ,  0.6313433 ,\n",
       "       -1.2667153 , -1.6857744 , -1.0949599 ,  0.7742313 , -0.6095523 ,\n",
       "        3.19503   ,  0.13200459,  1.7937473 , -2.8782516 ,  1.3821276 ,\n",
       "        2.2895143 ,  0.0741943 , -0.41046414,  1.438796  ,  0.19373988,\n",
       "        1.4294034 ,  1.5025262 ,  1.4849502 ,  1.5754777 ,  2.7793512 ,\n",
       "       -0.6885003 , -0.30154693, -1.708323  ,  1.1030879 , -2.2597387 ,\n",
       "        1.1909146 ,  2.4399316 ,  0.3990314 ,  0.904154  ,  0.5454401 ,\n",
       "       -1.3235748 , -0.64812386,  0.22390233,  0.9657619 , -0.47360668,\n",
       "       -0.10278235, -1.0679734 , -0.91414386,  0.92069   ,  0.3549338 ,\n",
       "        0.32858834,  0.84870636,  3.596926  , -1.6651102 ,  0.23658653,\n",
       "        1.0515738 ,  0.40531915, -0.773514  , -0.93460965, -0.3946274 ,\n",
       "       -1.5657727 ,  1.183652  ,  2.5277    ,  0.57700926,  1.7051374 ,\n",
       "       -1.8249958 , -2.0328498 ,  0.6617798 ,  0.85747904,  0.31782728,\n",
       "       -1.1660796 ,  0.32923874,  2.2055087 , -0.12782003,  2.0455444 ,\n",
       "       -0.1724252 ,  0.46001154,  1.559042  , -1.6152996 , -0.84242785,\n",
       "        0.7553168 ,  0.39734274,  0.07714175,  0.05610155,  0.32837135,\n",
       "        1.0220716 ,  1.3816743 ,  0.8049544 ,  0.28728685, -0.97610044,\n",
       "        0.8861181 , -0.01250968, -1.4845604 , -1.5236791 , -1.5451258 ],\n",
       "      dtype=float32)"
      ]
     },
     "execution_count": 54,
     "metadata": {},
     "output_type": "execute_result"
    }
   ],
   "source": [
    "from gensim.models import Word2Vec\n",
    "word2vec_path = '/home/aiffel-dj31/aiffel/sentiment_classification/ko.bin'\n",
    "word2vec = Word2Vec.load(word2vec_path)\n",
    "vector = word2vec['사랑']\n",
    "vector"
   ]
  },
  {
   "cell_type": "code",
   "execution_count": 56,
   "metadata": {},
   "outputs": [
    {
     "name": "stderr",
     "output_type": "stream",
     "text": [
      "/home/aiffel-dj31/anaconda3/envs/aiffel/lib/python3.7/site-packages/ipykernel_launcher.py:1: DeprecationWarning: Call to deprecated `similar_by_word` (Method will be removed in 4.0.0, use self.wv.similar_by_word() instead).\n",
      "  \"\"\"Entry point for launching an IPython kernel.\n"
     ]
    },
    {
     "data": {
      "text/plain": [
       "[('슬픔', 0.7216663360595703),\n",
       " ('행복', 0.6759077310562134),\n",
       " ('절망', 0.6468985676765442),\n",
       " ('기쁨', 0.6458414793014526),\n",
       " ('이별', 0.6334798336029053),\n",
       " ('추억', 0.6320937871932983),\n",
       " ('인생', 0.6216273307800293),\n",
       " ('애정', 0.6206068992614746),\n",
       " ('연인', 0.6186063289642334),\n",
       " ('유혹', 0.5965287685394287)]"
      ]
     },
     "execution_count": 56,
     "metadata": {},
     "output_type": "execute_result"
    }
   ],
   "source": [
    "word2vec.similar_by_word(\"사랑\")"
   ]
  },
  {
   "cell_type": "code",
   "execution_count": 57,
   "metadata": {},
   "outputs": [
    {
     "name": "stderr",
     "output_type": "stream",
     "text": [
      "/home/aiffel-dj31/anaconda3/envs/aiffel/lib/python3.7/site-packages/ipykernel_launcher.py:8: DeprecationWarning: Call to deprecated `__contains__` (Method will be removed in 4.0.0, use self.wv.__contains__() instead).\n",
      "  \n",
      "/home/aiffel-dj31/anaconda3/envs/aiffel/lib/python3.7/site-packages/ipykernel_launcher.py:9: DeprecationWarning: Call to deprecated `__getitem__` (Method will be removed in 4.0.0, use self.wv.__getitem__() instead).\n",
      "  if __name__ == '__main__':\n"
     ]
    }
   ],
   "source": [
    "vocab_size = 10000    # 어휘 사전의 크기입니다(10,000개의 단어)\n",
    "word_vector_dim = 200  # 워드 벡터의 차원수 (변경가능한 하이퍼파라미터)\n",
    "\n",
    "embedding_matrix = np.random.rand(vocab_size, word_vector_dim)\n",
    "\n",
    "# embedding_matrix에 Word2Vec 워드벡터를 단어 하나씩마다 차례차례 카피한다.\n",
    "for i in range(4,vocab_size):\n",
    "    if index_to_word[i] in word2vec:\n",
    "        embedding_matrix[i] = word2vec[index_to_word[i]]"
   ]
  },
  {
   "cell_type": "code",
   "execution_count": 58,
   "metadata": {},
   "outputs": [
    {
     "name": "stdout",
     "output_type": "stream",
     "text": [
      "Model: \"sequential_5\"\n",
      "_________________________________________________________________\n",
      "Layer (type)                 Output Shape              Param #   \n",
      "=================================================================\n",
      "embedding_5 (Embedding)      (None, 41, 200)           2000000   \n",
      "_________________________________________________________________\n",
      "conv1d_2 (Conv1D)            (None, 35, 16)            22416     \n",
      "_________________________________________________________________\n",
      "max_pooling1d_1 (MaxPooling1 (None, 7, 16)             0         \n",
      "_________________________________________________________________\n",
      "conv1d_3 (Conv1D)            (None, 1, 16)             1808      \n",
      "_________________________________________________________________\n",
      "global_max_pooling1d_2 (Glob (None, 16)                0         \n",
      "_________________________________________________________________\n",
      "dense_10 (Dense)             (None, 8)                 136       \n",
      "_________________________________________________________________\n",
      "dense_11 (Dense)             (None, 1)                 9         \n",
      "=================================================================\n",
      "Total params: 2,024,369\n",
      "Trainable params: 2,024,369\n",
      "Non-trainable params: 0\n",
      "_________________________________________________________________\n"
     ]
    }
   ],
   "source": [
    "from tensorflow.keras.initializers import Constant\n",
    "\n",
    "vocab_size = 10000    # 어휘 사전의 크기입니다(10,000개의 단어)\n",
    "word_vector_dim = 200  # 워드 벡터의 차원수 (변경가능한 하이퍼파라미터)\n",
    "\n",
    "# 모델 구성\n",
    "model = keras.Sequential()\n",
    "model.add(keras.layers.Embedding(vocab_size, \n",
    "                                 word_vector_dim, \n",
    "                                 embeddings_initializer=Constant(embedding_matrix),  # 카피한 임베딩을 여기서 활용\n",
    "                                 input_length=maxlen, \n",
    "                                 trainable=True))   # trainable을 True로 주면 Fine-tuning\n",
    "model.add(keras.layers.Conv1D(16, 7, activation='relu'))\n",
    "model.add(keras.layers.MaxPooling1D(5))\n",
    "model.add(keras.layers.Conv1D(16, 7, activation='relu'))\n",
    "model.add(keras.layers.GlobalMaxPooling1D())\n",
    "model.add(keras.layers.Dense(8, activation='relu'))\n",
    "model.add(keras.layers.Dense(1, activation='sigmoid')) \n",
    "\n",
    "model.summary()"
   ]
  },
  {
   "cell_type": "code",
   "execution_count": 60,
   "metadata": {},
   "outputs": [
    {
     "name": "stdout",
     "output_type": "stream",
     "text": [
      "Train on 136182 samples, validate on 10000 samples\n",
      "Epoch 1/20\n",
      "136182/136182 [==============================] - 8s 57us/sample - loss: 0.5322 - accuracy: 0.7259 - val_loss: 0.4221 - val_accuracy: 0.8090\n",
      "Epoch 2/20\n",
      "136182/136182 [==============================] - 7s 48us/sample - loss: 0.3792 - accuracy: 0.8322 - val_loss: 0.3648 - val_accuracy: 0.8401\n",
      "Epoch 3/20\n",
      "136182/136182 [==============================] - 7s 48us/sample - loss: 0.3261 - accuracy: 0.8600 - val_loss: 0.3556 - val_accuracy: 0.8427\n",
      "Epoch 4/20\n",
      "136182/136182 [==============================] - 6s 47us/sample - loss: 0.2935 - accuracy: 0.8771 - val_loss: 0.3421 - val_accuracy: 0.8525\n",
      "Epoch 5/20\n",
      "136182/136182 [==============================] - 6s 47us/sample - loss: 0.2679 - accuracy: 0.8901 - val_loss: 0.3447 - val_accuracy: 0.8529\n",
      "Epoch 6/20\n",
      "136182/136182 [==============================] - 6s 47us/sample - loss: 0.2458 - accuracy: 0.9009 - val_loss: 0.3622 - val_accuracy: 0.8504\n",
      "Epoch 7/20\n",
      "136182/136182 [==============================] - 6s 47us/sample - loss: 0.2261 - accuracy: 0.9098 - val_loss: 0.3773 - val_accuracy: 0.8508\n",
      "Epoch 8/20\n",
      "136182/136182 [==============================] - 6s 47us/sample - loss: 0.2066 - accuracy: 0.9191 - val_loss: 0.3921 - val_accuracy: 0.8470\n",
      "Epoch 9/20\n",
      "136182/136182 [==============================] - 6s 47us/sample - loss: 0.1874 - accuracy: 0.9284 - val_loss: 0.3940 - val_accuracy: 0.8492\n",
      "Epoch 10/20\n",
      "136182/136182 [==============================] - 6s 47us/sample - loss: 0.1667 - accuracy: 0.9380 - val_loss: 0.4454 - val_accuracy: 0.8453\n",
      "Epoch 11/20\n",
      "136182/136182 [==============================] - 6s 47us/sample - loss: 0.1499 - accuracy: 0.9453 - val_loss: 0.4609 - val_accuracy: 0.8424\n",
      "Epoch 12/20\n",
      "136182/136182 [==============================] - 7s 48us/sample - loss: 0.1323 - accuracy: 0.9533 - val_loss: 0.4990 - val_accuracy: 0.8415\n",
      "Epoch 13/20\n",
      "136182/136182 [==============================] - 6s 47us/sample - loss: 0.1182 - accuracy: 0.9593 - val_loss: 0.5579 - val_accuracy: 0.8398\n",
      "Epoch 14/20\n",
      "136182/136182 [==============================] - 6s 47us/sample - loss: 0.1052 - accuracy: 0.9642 - val_loss: 0.5830 - val_accuracy: 0.8366\n",
      "Epoch 15/20\n",
      "136182/136182 [==============================] - 6s 47us/sample - loss: 0.0971 - accuracy: 0.9674 - val_loss: 0.6135 - val_accuracy: 0.8394\n",
      "Epoch 16/20\n",
      "136182/136182 [==============================] - 7s 48us/sample - loss: 0.0844 - accuracy: 0.9725 - val_loss: 0.6591 - val_accuracy: 0.8344\n",
      "Epoch 17/20\n",
      "136182/136182 [==============================] - 7s 48us/sample - loss: 0.0770 - accuracy: 0.9746 - val_loss: 0.6802 - val_accuracy: 0.8330\n",
      "Epoch 18/20\n",
      "136182/136182 [==============================] - 6s 47us/sample - loss: 0.0718 - accuracy: 0.9763 - val_loss: 0.7707 - val_accuracy: 0.8323\n",
      "Epoch 19/20\n",
      "136182/136182 [==============================] - 6s 48us/sample - loss: 0.0658 - accuracy: 0.9785 - val_loss: 0.7791 - val_accuracy: 0.8352\n",
      "Epoch 20/20\n",
      "136182/136182 [==============================] - 7s 48us/sample - loss: 0.0649 - accuracy: 0.9785 - val_loss: 0.7690 - val_accuracy: 0.8326\n"
     ]
    }
   ],
   "source": [
    "# 학습의 진행\n",
    "model.compile(optimizer='adam',\n",
    "              loss='binary_crossentropy',\n",
    "              metrics=['accuracy'])\n",
    "              \n",
    "epochs=20  # 몇 epoch를 훈련하면 좋을지 결과를 보면서 바꾸어 봅시다. \n",
    "\n",
    "history = model.fit(partial_X_train,\n",
    "                    partial_y_train,\n",
    "                    epochs=epochs,\n",
    "                    batch_size=512,\n",
    "                    validation_data=(X_val, y_val),\n",
    "                    verbose=1)"
   ]
  },
  {
   "cell_type": "raw",
   "metadata": {},
   "source": [
    "검증 정확도 0.8326"
   ]
  },
  {
   "cell_type": "code",
   "execution_count": 62,
   "metadata": {},
   "outputs": [
    {
     "name": "stdout",
     "output_type": "stream",
     "text": [
      "49157/49157 - 2s - loss: 0.8013 - accuracy: 0.8271\n",
      "[0.8013117826645545, 0.82708466]\n"
     ]
    }
   ],
   "source": [
    "# 테스트셋을 통한 모델 평가\n",
    "results = model.evaluate(X_test,  y_test, verbose=2)\n",
    "\n",
    "print(results)"
   ]
  },
  {
   "cell_type": "markdown",
   "metadata": {},
   "source": [
    "정확도 0.8271"
   ]
  },
  {
   "cell_type": "markdown",
   "metadata": {},
   "source": [
    "# 루브릭 평가\n",
    "1. 다양한 방법으로 Text Classification 태스크를 성공적으로 구현하였다.\n",
    "\n",
    "lstm, conv, maxpooling 모델\n",
    "\n",
    "2. gensim을 활용하여 자체학습된 혹은 사전학습된 임베딩 레이어를 분석하였다.\n",
    "\n",
    "gensim의 유사단어 찾기를 활용하여 자체학습한 임베딩과 사전학습 임베딩을 적절히 분석함\n",
    "\n",
    "3. 한국어 Word2Vec을 활용하여 가시적인 성능향상을 달성했다.\n",
    "\n",
    "정확도 82.7%"
   ]
  },
  {
   "cell_type": "markdown",
   "metadata": {},
   "source": [
    "# 총평고\n",
    "\n",
    "여태 노드 중 가장 어려웠던 노드였다. 자연어 처리의 개념이 아직도 잡히지 않은 상태인데 너무 세세한 것에 집중하느라 큰 틀을 보지 못했다. 하이퍼파라미터가 완벽히 어떤 영향을 끼치는지 깨닫지는 못했지만 느낌을 점점 잡아가고 있는 중이다. 이번에도 파이썬 코드를 보다 흡수하지 못한것이 아쉬웠고 노드 전에 문법부터 확실히 잡아두어야겠다는 생각이 들었다. 노드가 워낙 설명이 잘 되어 있지 않아 필요 개념을 일일이 찾아보면서 진행했는데 아직도 불분명한 것이 많아 자연어는 처음부터 다시 공부해야겠다."
   ]
  },
  {
   "cell_type": "code",
   "execution_count": null,
   "metadata": {},
   "outputs": [],
   "source": []
  }
 ],
 "metadata": {
  "kernelspec": {
   "display_name": "aiffel",
   "language": "python",
   "name": "aiffel"
  },
  "language_info": {
   "codemirror_mode": {
    "name": "ipython",
    "version": 3
   },
   "file_extension": ".py",
   "mimetype": "text/x-python",
   "name": "python",
   "nbconvert_exporter": "python",
   "pygments_lexer": "ipython3",
   "version": "3.7.9"
  }
 },
 "nbformat": 4,
 "nbformat_minor": 4
}
