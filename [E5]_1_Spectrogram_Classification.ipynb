{
 "cells": [
  {
   "cell_type": "markdown",
   "id": "negative-protein",
   "metadata": {},
   "source": [
    "# Spectrogram classification 모델 구현"
   ]
  },
  {
   "cell_type": "markdown",
   "id": "amended-assets",
   "metadata": {},
   "source": [
    "## 1. 데이터 처리와 분류"
   ]
  },
  {
   "cell_type": "markdown",
   "id": "verbal-convention",
   "metadata": {},
   "source": [
    "## Wave data 분석\n",
    "\n",
    "데이터셋은 1초의 오디오 음성 데이터 50,620개로 이루어져 있습니다."
   ]
  },
  {
   "cell_type": "code",
   "execution_count": 3,
   "id": "golden-consolidation",
   "metadata": {},
   "outputs": [
    {
     "name": "stdout",
     "output_type": "stream",
     "text": [
      "Wave data shape :  (50620, 8000)\n",
      "Label data shape :  (50620, 1)\n"
     ]
    }
   ],
   "source": [
    "import numpy as np\n",
    "import os\n",
    "\n",
    "data_path = os.getenv(\"HOME\")+'/aiffel/speech_recognition/data/speech_wav_8000.npz'\n",
    "speech_data = np.load(data_path)\n",
    "\n",
    "print(\"Wave data shape : \", speech_data[\"wav_vals\"].shape)\n",
    "print(\"Label data shape : \", speech_data[\"label_vals\"].shape)\n"
   ]
  },
  {
   "cell_type": "code",
   "execution_count": 5,
   "id": "therapeutic-letters",
   "metadata": {
    "scrolled": true
   },
   "outputs": [
    {
     "name": "stdout",
     "output_type": "stream",
     "text": [
      "rand num :  5261\n",
      "Wave data shape :  (8000,)\n",
      "label :  ['left']\n"
     ]
    },
    {
     "data": {
      "text/html": [
       "\n",
       "                <audio  controls=\"controls\" >\n",
       "                    <source src=\"data:audio/wav;base64,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\" type=\"audio/wav\" />\n",
       "                    Your browser does not support the audio element.\n",
       "                </audio>\n",
       "              "
      ],
      "text/plain": [
       "<IPython.lib.display.Audio object>"
      ]
     },
     "execution_count": 5,
     "metadata": {},
     "output_type": "execute_result"
    }
   ],
   "source": [
    "import IPython.display as ipd\n",
    "import random\n",
    "\n",
    "# 데이터 선택 (랜덤하게 선택하고 있으니, 여러번 실행해 보세요)\n",
    "rand = random.randint(0, len(speech_data[\"wav_vals\"]))\n",
    "print(\"rand num : \", rand)\n",
    "\n",
    "sr = 8000 # 1초동안 재생되는 샘플의 갯수\n",
    "data = speech_data[\"wav_vals\"][rand]\n",
    "print(\"Wave data shape : \", data.shape)\n",
    "print(\"label : \", speech_data[\"label_vals\"][rand])\n",
    "\n",
    "ipd.Audio(data, rate=sr)"
   ]
  },
  {
   "cell_type": "markdown",
   "id": "falling-yugoslavia",
   "metadata": {},
   "source": [
    "## Label data 처리\n",
    "\n",
    "구분할 label 목록을 지정하고 text 형태의 데이터를 index로 바꾸어줍니다."
   ]
  },
  {
   "cell_type": "code",
   "execution_count": 6,
   "id": "encouraging-crest",
   "metadata": {},
   "outputs": [
    {
     "name": "stdout",
     "output_type": "stream",
     "text": [
      "LABEL :  ['yes', 'no', 'up', 'down', 'left', 'right', 'on', 'off', 'stop', 'go', 'unknown', 'silence']\n",
      "Indexed LABEL :  {'yes': 0, 'no': 1, 'up': 2, 'down': 3, 'left': 4, 'right': 5, 'on': 6, 'off': 7, 'stop': 8, 'go': 9, 'unknown': 10, 'silence': 11}\n"
     ]
    }
   ],
   "source": [
    "target_list = ['yes', 'no', 'up', 'down', 'left', 'right', 'on', 'off', 'stop', 'go']\n",
    "\n",
    "label_value = target_list\n",
    "label_value.append('unknown')\n",
    "label_value.append('silence')\n",
    "\n",
    "print('LABEL : ', label_value)\n",
    "\n",
    "new_label_value = dict()\n",
    "for i, l in enumerate(label_value):\n",
    "    new_label_value[l] = i\n",
    "label_value = new_label_value\n",
    "\n",
    "print('Indexed LABEL : ', new_label_value)"
   ]
  },
  {
   "cell_type": "code",
   "execution_count": 7,
   "id": "stupid-satisfaction",
   "metadata": {},
   "outputs": [
    {
     "data": {
      "text/plain": [
       "array([ 3,  3,  3, ..., 11, 11, 11])"
      ]
     },
     "execution_count": 7,
     "metadata": {},
     "output_type": "execute_result"
    }
   ],
   "source": [
    "temp = []\n",
    "for v in speech_data[\"label_vals\"]:\n",
    "    temp.append(label_value[v[0]])\n",
    "label_data = np.array(temp)\n",
    "\n",
    "label_data"
   ]
  },
  {
   "cell_type": "markdown",
   "id": "mighty-boulder",
   "metadata": {},
   "source": [
    "## 학습을 위한 데이터 분리\n",
    "\n",
    "sklearn에 내장된 train_test_split 함수를 이용해서 train data와 test data를 분리한 후 test_size의 인자를 조절하면 데이터셋의 비율의 조정이 가능합니다."
   ]
  },
  {
   "cell_type": "code",
   "execution_count": 10,
   "id": "pretty-bachelor",
   "metadata": {},
   "outputs": [
    {
     "name": "stdout",
     "output_type": "stream",
     "text": [
      "train data :  (45558, 8000, 1)\n",
      "train labels :  (45558,)\n",
      "test data :  (5062, 8000, 1)\n",
      "test labels :  (5062,)\n"
     ]
    }
   ],
   "source": [
    "from sklearn.model_selection import train_test_split\n",
    "\n",
    "sr = 8000\n",
    "train_wav, test_wav, train_label, test_label = train_test_split(speech_data[\"wav_vals\"], \n",
    "                                                                label_data, \n",
    "                                                                test_size=0.1,\n",
    "                                                                shuffle=True)\n",
    "\n",
    "train_wav = train_wav.reshape([-1, sr, 1]) # add channel for CNN\n",
    "test_wav = test_wav.reshape([-1, sr, 1])\n",
    "\n",
    "del speech_data\n",
    "\n",
    "print(\"train data : \", train_wav.shape)\n",
    "print(\"train labels : \", train_label.shape)\n",
    "print(\"test data : \", test_wav.shape)\n",
    "print(\"test labels : \", test_label.shape)\n"
   ]
  },
  {
   "cell_type": "markdown",
   "id": "divine-incident",
   "metadata": {},
   "source": [
    "# 2. 학습을 위한 하이퍼파라미터 설정\n",
    "\n",
    "batch_size는 32로 max_epochs는 10으로 설정하였고 체크포인트 경로를 지정합니다."
   ]
  },
  {
   "cell_type": "markdown",
   "id": "functional-interest",
   "metadata": {},
   "source": [
    "## Hyper-parameters setting\n"
   ]
  },
  {
   "cell_type": "code",
   "execution_count": 11,
   "id": "spiritual-intellectual",
   "metadata": {},
   "outputs": [
    {
     "data": {
      "text/plain": [
       "'/home/aiffel-dj31/aiffel/speech_recognition/models/wav'"
      ]
     },
     "execution_count": 11,
     "metadata": {},
     "output_type": "execute_result"
    }
   ],
   "source": [
    "batch_size = 32\n",
    "max_epochs = 10\n",
    "\n",
    "# the save point\n",
    "checkpoint_dir = os.getenv('HOME')+'/aiffel/speech_recognition/models/wav'\n",
    "\n",
    "checkpoint_dir"
   ]
  },
  {
   "cell_type": "markdown",
   "id": "spare-alexander",
   "metadata": {},
   "source": [
    "# 3. 데이터셋 구성"
   ]
  },
  {
   "cell_type": "markdown",
   "id": "conditional-offering",
   "metadata": {},
   "source": [
    "## Data setting\n"
   ]
  },
  {
   "cell_type": "code",
   "execution_count": 14,
   "id": "ethical-tuesday",
   "metadata": {},
   "outputs": [],
   "source": [
    "def one_hot_label(wav, label):\n",
    "    label = tf.one_hot(label, depth=12)\n",
    "    return wav, label\n"
   ]
  },
  {
   "cell_type": "code",
   "execution_count": 15,
   "id": "postal-symbol",
   "metadata": {},
   "outputs": [
    {
     "name": "stdout",
     "output_type": "stream",
     "text": [
      "<BatchDataset shapes: ((None, 8000, 1), (None, 12)), types: (tf.float32, tf.float32)>\n",
      "<BatchDataset shapes: ((None, 8000, 1), (None, 12)), types: (tf.float32, tf.float32)>\n"
     ]
    }
   ],
   "source": [
    "import tensorflow as tf\n",
    "\n",
    "# for train\n",
    "train_dataset = tf.data.Dataset.from_tensor_slices((train_wav, train_label))\n",
    "train_dataset = train_dataset.map(one_hot_label)\n",
    "train_dataset = train_dataset.repeat().batch(batch_size=batch_size)\n",
    "print(train_dataset)\n",
    "\n",
    "# for test\n",
    "test_dataset = tf.data.Dataset.from_tensor_slices((test_wav, test_label))\n",
    "test_dataset = test_dataset.map(one_hot_label)\n",
    "test_dataset = test_dataset.batch(batch_size=batch_size)\n",
    "print(test_dataset)\n"
   ]
  },
  {
   "cell_type": "markdown",
   "id": "fossil-grace",
   "metadata": {},
   "source": [
    "## 4. 2차원 Spectrogram 데이터를 처리하는 모델 구성\n"
   ]
  },
  {
   "cell_type": "markdown",
   "id": "pediatric-montana",
   "metadata": {},
   "source": [
    "## Model\n",
    "\n",
    "conv1D모델을 사용하였습니다."
   ]
  },
  {
   "cell_type": "code",
   "execution_count": 16,
   "id": "average-python",
   "metadata": {},
   "outputs": [
    {
     "name": "stdout",
     "output_type": "stream",
     "text": [
      "Model: \"model\"\n",
      "_________________________________________________________________\n",
      "Layer (type)                 Output Shape              Param #   \n",
      "=================================================================\n",
      "input_1 (InputLayer)         [(None, 8000, 1)]         0         \n",
      "_________________________________________________________________\n",
      "conv1d (Conv1D)              (None, 8000, 32)          320       \n",
      "_________________________________________________________________\n",
      "conv1d_1 (Conv1D)            (None, 8000, 32)          9248      \n",
      "_________________________________________________________________\n",
      "max_pooling1d (MaxPooling1D) (None, 4000, 32)          0         \n",
      "_________________________________________________________________\n",
      "conv1d_2 (Conv1D)            (None, 4000, 64)          18496     \n",
      "_________________________________________________________________\n",
      "conv1d_3 (Conv1D)            (None, 4000, 64)          36928     \n",
      "_________________________________________________________________\n",
      "max_pooling1d_1 (MaxPooling1 (None, 2000, 64)          0         \n",
      "_________________________________________________________________\n",
      "conv1d_4 (Conv1D)            (None, 2000, 128)         73856     \n",
      "_________________________________________________________________\n",
      "conv1d_5 (Conv1D)            (None, 2000, 128)         147584    \n",
      "_________________________________________________________________\n",
      "conv1d_6 (Conv1D)            (None, 2000, 128)         147584    \n",
      "_________________________________________________________________\n",
      "max_pooling1d_2 (MaxPooling1 (None, 1000, 128)         0         \n",
      "_________________________________________________________________\n",
      "conv1d_7 (Conv1D)            (None, 1000, 256)         295168    \n",
      "_________________________________________________________________\n",
      "conv1d_8 (Conv1D)            (None, 1000, 256)         590080    \n",
      "_________________________________________________________________\n",
      "conv1d_9 (Conv1D)            (None, 1000, 256)         590080    \n",
      "_________________________________________________________________\n",
      "max_pooling1d_3 (MaxPooling1 (None, 500, 256)          0         \n",
      "_________________________________________________________________\n",
      "dropout (Dropout)            (None, 500, 256)          0         \n",
      "_________________________________________________________________\n",
      "flatten (Flatten)            (None, 128000)            0         \n",
      "_________________________________________________________________\n",
      "dense (Dense)                (None, 256)               32768256  \n",
      "_________________________________________________________________\n",
      "batch_normalization (BatchNo (None, 256)               1024      \n",
      "_________________________________________________________________\n",
      "activation (Activation)      (None, 256)               0         \n",
      "_________________________________________________________________\n",
      "dense_1 (Dense)              (None, 12)                3084      \n",
      "=================================================================\n",
      "Total params: 34,681,708\n",
      "Trainable params: 34,681,196\n",
      "Non-trainable params: 512\n",
      "_________________________________________________________________\n"
     ]
    }
   ],
   "source": [
    "from tensorflow.keras import layers\n",
    "\n",
    "input_tensor = layers.Input(shape=(sr, 1))\n",
    "\n",
    "x = layers.Conv1D(32, 9, padding='same', activation='relu')(input_tensor)\n",
    "x = layers.Conv1D(32, 9, padding='same', activation='relu')(x)\n",
    "x = layers.MaxPool1D()(x)\n",
    "\n",
    "x = layers.Conv1D(64, 9, padding='same', activation='relu')(x)\n",
    "x = layers.Conv1D(64, 9, padding='same', activation='relu')(x)\n",
    "x = layers.MaxPool1D()(x)\n",
    "\n",
    "x = layers.Conv1D(128, 9, padding='same', activation='relu')(x)\n",
    "x = layers.Conv1D(128, 9, padding='same', activation='relu')(x)\n",
    "x = layers.Conv1D(128, 9, padding='same', activation='relu')(x)\n",
    "x = layers.MaxPool1D()(x)\n",
    "\n",
    "x = layers.Conv1D(256, 9, padding='same', activation='relu')(x)\n",
    "x = layers.Conv1D(256, 9, padding='same', activation='relu')(x)\n",
    "x = layers.Conv1D(256, 9, padding='same', activation='relu')(x)\n",
    "x = layers.MaxPool1D()(x)\n",
    "x = layers.Dropout(0.3)(x)\n",
    "\n",
    "x = layers.Flatten()(x)\n",
    "x = layers.Dense(256)(x)\n",
    "x = layers.BatchNormalization()(x)\n",
    "x = layers.Activation('relu')(x)\n",
    "\n",
    "output_tensor = layers.Dense(12)(x)\n",
    "\n",
    "model_wav = tf.keras.Model(input_tensor, output_tensor)\n",
    "\n",
    "model_wav.summary()"
   ]
  },
  {
   "cell_type": "markdown",
   "id": "perfect-edinburgh",
   "metadata": {},
   "source": [
    "## Loss\n"
   ]
  },
  {
   "cell_type": "code",
   "execution_count": 19,
   "id": "employed-shakespeare",
   "metadata": {},
   "outputs": [],
   "source": [
    "optimizer=tf.keras.optimizers.Adam(1e-4)\n",
    "model_wav.compile(loss=tf.keras.losses.CategoricalCrossentropy(from_logits=True),\n",
    "             optimizer=optimizer,\n",
    "             metrics=['accuracy'])\n"
   ]
  },
  {
   "cell_type": "markdown",
   "id": "assigned-disney",
   "metadata": {},
   "source": [
    "## Training\n"
   ]
  },
  {
   "cell_type": "code",
   "execution_count": 20,
   "id": "crucial-drill",
   "metadata": {},
   "outputs": [],
   "source": [
    "cp_callback = tf.keras.callbacks.ModelCheckpoint(checkpoint_dir,\n",
    "                                                 save_weights_only=True,\n",
    "                                                 monitor='val_loss',\n",
    "                                                 mode='auto',\n",
    "                                                 save_best_only=True,\n",
    "                                                 verbose=1)\n"
   ]
  },
  {
   "cell_type": "code",
   "execution_count": 21,
   "id": "quantitative-boating",
   "metadata": {},
   "outputs": [
    {
     "name": "stdout",
     "output_type": "stream",
     "text": [
      "Train for 1423 steps, validate for 158 steps\n",
      "Epoch 1/10\n",
      "1422/1423 [============================>.] - ETA: 0s - loss: 1.3685 - accuracy: 0.5490\n",
      "Epoch 00001: val_loss improved from inf to 1.00421, saving model to /home/aiffel-dj31/aiffel/speech_recognition/models/wav\n",
      "1423/1423 [==============================] - 147s 104ms/step - loss: 1.3683 - accuracy: 0.5491 - val_loss: 1.0042 - val_accuracy: 0.6839\n",
      "Epoch 2/10\n",
      "1422/1423 [============================>.] - ETA: 0s - loss: 0.8312 - accuracy: 0.7415\n",
      "Epoch 00002: val_loss improved from 1.00421 to 0.71863, saving model to /home/aiffel-dj31/aiffel/speech_recognition/models/wav\n",
      "1423/1423 [==============================] - 147s 103ms/step - loss: 0.8310 - accuracy: 0.7416 - val_loss: 0.7186 - val_accuracy: 0.7718\n",
      "Epoch 3/10\n",
      "1422/1423 [============================>.] - ETA: 0s - loss: 0.6295 - accuracy: 0.8094\n",
      "Epoch 00003: val_loss improved from 0.71863 to 0.56650, saving model to /home/aiffel-dj31/aiffel/speech_recognition/models/wav\n",
      "1423/1423 [==============================] - 148s 104ms/step - loss: 0.6296 - accuracy: 0.8093 - val_loss: 0.5665 - val_accuracy: 0.8224\n",
      "Epoch 4/10\n",
      "1422/1423 [============================>.] - ETA: 0s - loss: 0.4686 - accuracy: 0.8602\n",
      "Epoch 00004: val_loss improved from 0.56650 to 0.48165, saving model to /home/aiffel-dj31/aiffel/speech_recognition/models/wav\n",
      "1423/1423 [==============================] - 146s 103ms/step - loss: 0.4686 - accuracy: 0.8602 - val_loss: 0.4816 - val_accuracy: 0.8475\n",
      "Epoch 5/10\n",
      "1422/1423 [============================>.] - ETA: 0s - loss: 0.3369 - accuracy: 0.9052\n",
      "Epoch 00005: val_loss improved from 0.48165 to 0.41663, saving model to /home/aiffel-dj31/aiffel/speech_recognition/models/wav\n",
      "1423/1423 [==============================] - 144s 101ms/step - loss: 0.3369 - accuracy: 0.9051 - val_loss: 0.4166 - val_accuracy: 0.8693\n",
      "Epoch 6/10\n",
      "1422/1423 [============================>.] - ETA: 0s - loss: 0.2445 - accuracy: 0.9351\n",
      "Epoch 00006: val_loss improved from 0.41663 to 0.33766, saving model to /home/aiffel-dj31/aiffel/speech_recognition/models/wav\n",
      "1423/1423 [==============================] - 147s 103ms/step - loss: 0.2445 - accuracy: 0.9351 - val_loss: 0.3377 - val_accuracy: 0.8952\n",
      "Epoch 7/10\n",
      "1422/1423 [============================>.] - ETA: 0s - loss: 0.1799 - accuracy: 0.9552\n",
      "Epoch 00007: val_loss improved from 0.33766 to 0.33416, saving model to /home/aiffel-dj31/aiffel/speech_recognition/models/wav\n",
      "1423/1423 [==============================] - 148s 104ms/step - loss: 0.1799 - accuracy: 0.9552 - val_loss: 0.3342 - val_accuracy: 0.8983\n",
      "Epoch 8/10\n",
      "1422/1423 [============================>.] - ETA: 0s - loss: 0.1306 - accuracy: 0.9684\n",
      "Epoch 00008: val_loss improved from 0.33416 to 0.32320, saving model to /home/aiffel-dj31/aiffel/speech_recognition/models/wav\n",
      "1423/1423 [==============================] - 146s 102ms/step - loss: 0.1305 - accuracy: 0.9684 - val_loss: 0.3232 - val_accuracy: 0.9019\n",
      "Epoch 9/10\n",
      "1422/1423 [============================>.] - ETA: 0s - loss: 0.1018 - accuracy: 0.9764\n",
      "Epoch 00009: val_loss improved from 0.32320 to 0.25691, saving model to /home/aiffel-dj31/aiffel/speech_recognition/models/wav\n",
      "1423/1423 [==============================] - 146s 102ms/step - loss: 0.1017 - accuracy: 0.9764 - val_loss: 0.2569 - val_accuracy: 0.9173\n",
      "Epoch 10/10\n",
      "1422/1423 [============================>.] - ETA: 0s - loss: 0.0802 - accuracy: 0.9817\n",
      "Epoch 00010: val_loss did not improve from 0.25691\n",
      "1423/1423 [==============================] - 145s 102ms/step - loss: 0.0802 - accuracy: 0.9817 - val_loss: 0.3058 - val_accuracy: 0.9039\n"
     ]
    }
   ],
   "source": [
    "#30분 내외 소요 (메모리 사용량에 주의해 주세요.)\n",
    "history_wav = model_wav.fit(train_dataset, epochs=max_epochs,\n",
    "                    steps_per_epoch=len(train_wav) // batch_size,\n",
    "                    validation_data=test_dataset,\n",
    "                    validation_steps=len(test_wav) // batch_size,\n",
    "                    callbacks=[cp_callback]\n",
    "                    )\n"
   ]
  },
  {
   "cell_type": "markdown",
   "id": "rational-italian",
   "metadata": {},
   "source": [
    "# 5. 학습 결과 그래프 출력\n"
   ]
  },
  {
   "cell_type": "markdown",
   "id": "changed-expense",
   "metadata": {},
   "source": [
    "## 학습 결과 Plot\n"
   ]
  },
  {
   "cell_type": "code",
   "execution_count": 33,
   "id": "formed-bermuda",
   "metadata": {},
   "outputs": [
    {
     "data": {
      "image/png": "[encoded data removed]",
      "text/plain": [
       "<Figure size 576x576 with 2 Axes>"
      ]
     },
     "metadata": {
      "needs_background": "light"
     },
     "output_type": "display_data"
    }
   ],
   "source": [
    "import matplotlib.pyplot as plt\n",
    "\n",
    "acc = history_wav.history['accuracy']\n",
    "val_acc = history_wav.history['val_accuracy']\n",
    "\n",
    "loss=history_wav.history['loss']\n",
    "val_loss=history_wav.history['val_loss']\n",
    "\n",
    "epochs_range = range(len(acc))\n",
    "\n",
    "plt.figure(figsize=(8, 8))\n",
    "plt.subplot(1, 2, 1)\n",
    "plt.plot(epochs_range, acc, label='Training Accuracy')\n",
    "plt.plot(epochs_range, val_acc, label='Validation Accuracy')\n",
    "plt.legend(loc='lower right')\n",
    "plt.title('Training and Validation Accuracy')\n",
    "\n",
    "plt.subplot(1, 2, 2)\n",
    "plt.plot(epochs_range, loss, label='Training Loss')\n",
    "plt.plot(epochs_range, val_loss, label='Validation Loss')\n",
    "plt.legend(loc='upper right')\n",
    "plt.title('Training and Validation Loss')\n",
    "plt.show()\n"
   ]
  },
  {
   "cell_type": "markdown",
   "id": "charitable-faith",
   "metadata": {},
   "source": [
    "6. Test dataset을 이용해서 모델의 성능을 평가\n"
   ]
  },
  {
   "cell_type": "markdown",
   "id": "graphic-cycle",
   "metadata": {},
   "source": [
    "## Evaluation\n",
    "\n",
    "93%의 정확도로 꽤 높은 수치를 얻었습니다."
   ]
  },
  {
   "cell_type": "code",
   "execution_count": 36,
   "id": "better-pressure",
   "metadata": {},
   "outputs": [
    {
     "name": "stdout",
     "output_type": "stream",
     "text": [
      "159/159 [==============================] - 5s 33ms/step - loss: 0.2213 - accuracy: 0.9309\n",
      "loss value: 0.221\n",
      "accuracy value: 93.0857%\n",
      "✅\n"
     ]
    }
   ],
   "source": [
    "# Evaluation \n",
    "\n",
    "model_wav_skip.load_weights(checkpoint_dir)\n",
    "results = model_wav_skip.evaluate(test_dataset)\n",
    "\n",
    "# loss\n",
    "print(\"loss value: {:.3f}\".format(results[0]))\n",
    "# accuracy\n",
    "print(\"accuracy value: {:.4f}%\".format(results[1]*100))\n",
    "print(\"✅\")"
   ]
  },
  {
   "cell_type": "markdown",
   "id": "corporate-flooring",
   "metadata": {},
   "source": [
    "## Model Test\n",
    "\n",
    "직접 듣는 과정을 통해 모델이 잘 예측했는지 확인을 할 수가 있습니다."
   ]
  },
  {
   "cell_type": "code",
   "execution_count": 37,
   "id": "seventh-recording",
   "metadata": {},
   "outputs": [
    {
     "name": "stdout",
     "output_type": "stream",
     "text": [
      "label :  right\n"
     ]
    },
    {
     "data": {
      "text/html": [
       "\n",
       "                <audio  controls=\"controls\" >\n",
       "                    <source src=\"data:audio/wav;base64,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\" type=\"audio/wav\" />\n",
       "                    Your browser does not support the audio element.\n",
       "                </audio>\n",
       "              "
      ],
      "text/plain": [
       "<IPython.lib.display.Audio object>"
      ]
     },
     "execution_count": 37,
     "metadata": {},
     "output_type": "execute_result"
    }
   ],
   "source": [
    "inv_label_value = {v: k for k, v in label_value.items()}\n",
    "batch_index = np.random.choice(len(test_wav), size=1, replace=False)\n",
    "\n",
    "batch_xs = test_wav[batch_index]\n",
    "batch_ys = test_label[batch_index]\n",
    "y_pred_ = model_wav(batch_xs, training=False)\n",
    "\n",
    "print(\"label : \", str(inv_label_value[batch_ys[0]]))\n",
    "\n",
    "ipd.Audio(batch_xs.reshape(8000,), rate=8000)"
   ]
  },
  {
   "cell_type": "code",
   "execution_count": 45,
   "id": "ruled-chair",
   "metadata": {},
   "outputs": [
    {
     "name": "stdout",
     "output_type": "stream",
     "text": [
      "y_pred: right(Correct!)\n"
     ]
    }
   ],
   "source": [
    "if np.argmax(y_pred_) == batch_ys[0]:\n",
    "    print(\"y_pred: \" + str(inv_label_value[np.argmax(y_pred_)]) + '(Correct!)')\n",
    "else:\n",
    "    print(\"y_pred: \" + str(inv_label_value[np.argmax(y_pred_)]) + '(Incorrect!)')\n"
   ]
  },
  {
   "cell_type": "markdown",
   "id": "excellent-marine",
   "metadata": {},
   "source": [
    "## Spectrogram\n",
    "\n",
    "wav 데이터 안에 얼마나 다양한 주파수가 있는지 Spectogram을 통해 확인할 수 있습니다."
   ]
  },
  {
   "cell_type": "code",
   "execution_count": 42,
   "id": "chronic-assault",
   "metadata": {},
   "outputs": [],
   "source": [
    "import librosa\n",
    "\n",
    "def wav2spec(wav, fft_size=258): # spectrogram shape을 맞추기위해서 size 변형\n",
    "    D = np.abs(librosa.stft(wav, n_fft=fft_size))\n",
    "    return D\n"
   ]
  },
  {
   "cell_type": "code",
   "execution_count": 43,
   "id": "controlling-monday",
   "metadata": {},
   "outputs": [
    {
     "name": "stdout",
     "output_type": "stream",
     "text": [
      "Waveform shape :  (8000,)\n",
      "Spectrogram shape :  (130, 126)\n"
     ]
    }
   ],
   "source": [
    "# 위에서 뽑았던 sample data\n",
    "spec = wav2spec(data)\n",
    "print(\"Waveform shape : \",data.shape)\n",
    "print(\"Spectrogram shape : \",spec.shape)"
   ]
  },
  {
   "cell_type": "code",
   "execution_count": 44,
   "id": "stock-galaxy",
   "metadata": {},
   "outputs": [
    {
     "data": {
      "image/png": "[encoded data removed]",
      "text/plain": [
       "<Figure size 432x288 with 2 Axes>"
      ]
     },
     "metadata": {
      "needs_background": "light"
     },
     "output_type": "display_data"
    }
   ],
   "source": [
    "import librosa.display\n",
    "\n",
    "librosa.display.specshow(librosa.amplitude_to_db(spec, ref=np.max), x_axis='time')\n",
    "plt.title('Power spectrogram')\n",
    "plt.colorbar(format='%+2.0f dB')\n",
    "plt.xticks(range(0, 1))\n",
    "plt.tight_layout()\n",
    "plt.show()"
   ]
  },
  {
   "cell_type": "markdown",
   "id": "other-dress",
   "metadata": {},
   "source": [
    "루브릭 평가\n",
    "\n",
    "1. 음성데이터를 2차원 Spectrogram 으로 변환하여 데이터셋을 구성하였다.\n",
    "변환 후 데이터셋의 구성이 정상적으로 진행됨\n",
    "\n",
    "2. 1,2차원 데이터를 처리하는 음성인식 모델이 정상 작동한다.\n",
    "\n",
    "스펙트로그램을 입력받은 모델이 학습과정에서 안정적으로 수렴하며, evaluation/test 단계를 무리없이 진행가능하다.\n",
    "\n",
    "3. 테스트셋 수행결과 음성인식 모델의 Accuracy가 일정 수준에 도달하였다.\n",
    "\n",
    "90%이상의 정확도를 달성하였다."
   ]
  },
  {
   "cell_type": "markdown",
   "id": "limited-cradle",
   "metadata": {},
   "source": [
    "총평\n",
    "\n",
    "speech_data와 spec_data를 지우지 않아 처음에 애를 많이 먹었다. 노드 가이드에 적혀있는데 꼼꼼히 읽지 탓이 크다는 생각이 들었다. 사소한 것 하나에 시간을 잡아먹는 경우가 많아 노드를 더욱 세세하게 읽자..! 프로젝트를 정리할 때 이미 시간이 많이 소요되어 Conv2d모델을 사용해 보지 못한것이 아쉬웠는데 후에 펀데먼털을 더 진행하고 코드와 전체적인 흐름을 더욱 잘 이해하게 되었을 때 직접 코드를 짜보며 다른 모델을 적용시키면서 프로젝트를 정리할 것이다."
   ]
  },
  {
   "cell_type": "markdown",
   "id": "corrected-budapest",
   "metadata": {},
   "source": []
  },
  {
   "cell_type": "code",
   "execution_count": null,
   "id": "muslim-volleyball",
   "metadata": {},
   "outputs": [],
   "source": []
  },
  {
   "cell_type": "markdown",
   "id": "banner-violin",
   "metadata": {},
   "source": []
  }
 ],
 "metadata": {
  "kernelspec": {
   "display_name": "aiffel",
   "language": "python",
   "name": "aiffel"
  },
  "language_info": {
   "codemirror_mode": {
    "name": "ipython",
    "version": 3
   },
   "file_extension": ".py",
   "mimetype": "text/x-python",
   "name": "python",
   "nbconvert_exporter": "python",
   "pygments_lexer": "ipython3",
   "version": "3.7.9"
  }
 },
 "nbformat": 4,
 "nbformat_minor": 5
}
